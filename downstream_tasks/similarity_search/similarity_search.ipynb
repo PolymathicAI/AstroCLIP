{
 "cells": [
  {
   "cell_type": "code",
   "execution_count": null,
   "metadata": {},
   "outputs": [],
   "source": [
    "%pylab inline\n",
    "import numpy as np\n",
    "import h5py\n",
    "from tqdm import tqdm\n",
    "\n",
    "from plotting import plot_similar_images, plot_similar_spectra\n",
    "\n",
    "# Load the embeddings\n",
    "embedding_loc = \"/mnt/ceph/users/lparker/astroclip_embeddings.hdf5\"\n",
    "with h5py.File(embedding_loc, \"r\") as f:\n",
    "    images = f[\"image\"][:]\n",
    "    spectra = f[\"spectrum\"][:]\n",
    "    im_embeddings = f[\"image_embeddings\"][:]\n",
    "    sp_embeddings = f[\"spectrum_embeddings\"][:]\n",
    "\n",
    "# Normalize the embeddings\n",
    "image_features_normed = im_embeddings / np.linalg.norm(\n",
    "    im_embeddings, axis=-1, keepdims=True\n",
    ")\n",
    "spectrum_features_normed = sp_embeddings / np.linalg.norm(\n",
    "    sp_embeddings, axis=-1, keepdims=True\n",
    ")"
   ]
  },
  {
   "cell_type": "code",
   "execution_count": null,
   "metadata": {},
   "outputs": [],
   "source": [
    "# Look at some randomly selected galaxies\n",
    "figure(figsize=[10, 10])\n",
    "for i in range(10):\n",
    "    for j in range(10):\n",
    "        subplot(10, 10, i * 10 + j + 1)\n",
    "        imshow(images[i * 10 + j].T)\n",
    "        title(i * 10 + j)\n",
    "        axis(\"off\")\n",
    "plt.subplots_adjust(wspace=0.1, hspace=0.11)"
   ]
  },
  {
   "cell_type": "markdown",
   "metadata": {},
   "source": [
    "# Plot retrieved galaxy images"
   ]
  },
  {
   "cell_type": "code",
   "execution_count": null,
   "metadata": {},
   "outputs": [],
   "source": [
    "# Choose some galaxies to search for similar galaxies\n",
    "ind_query = [7, 30, 31, 48]\n",
    "\n",
    "# Find the indices of the galaxies in the dataset\n",
    "im_sims = []\n",
    "\n",
    "for ind in ind_query:\n",
    "    # Compute the similarity between the query galaxy and all other galaxies\n",
    "    sp_sim = spectrum_features_normed[ind] @ spectrum_features_normed.T\n",
    "    im_sim = image_features_normed[ind] @ image_features_normed.T\n",
    "    x_im_sim = image_features_normed[ind] @ spectrum_features_normed.T\n",
    "    x_sp_sim = spectrum_features_normed[ind] @ image_features_normed.T\n",
    "\n",
    "    # Find the 8 most similar galaxies (images)\n",
    "    im_sims.append(\n",
    "        {\n",
    "            \"sp_sim\": [images[i] for i in argsort(sp_sim)[::-1][:8]],\n",
    "            \"im_sim\": [images[i] for i in argsort(im_sim)[::-1][:8]],\n",
    "            \"x_im_sim\": [images[i] for i in argsort(x_im_sim)[::-1][:8]],\n",
    "            \"x_sp_sim\": [images[i] for i in argsort(x_sp_sim)[::-1][:8]],\n",
    "        }\n",
    "    )"
   ]
  },
  {
   "cell_type": "code",
   "execution_count": null,
   "metadata": {},
   "outputs": [],
   "source": [
    "# Image-image similarity\n",
    "plot_similar_images([images[i] for i in ind_query], im_sims, similarity_type=\"im_sim\")"
   ]
  },
  {
   "cell_type": "code",
   "execution_count": null,
   "metadata": {},
   "outputs": [],
   "source": [
    "# Spectrum-spectrum similarity\n",
    "plot_similar_images([images[i] for i in ind_query], im_sims, similarity_type=\"sp_sim\")"
   ]
  },
  {
   "cell_type": "code",
   "execution_count": null,
   "metadata": {},
   "outputs": [],
   "source": [
    "# Image-spectrum similarity\n",
    "plot_similar_images([images[i] for i in ind_query], im_sims, similarity_type=\"x_im_sim\")"
   ]
  },
  {
   "cell_type": "code",
   "execution_count": null,
   "metadata": {},
   "outputs": [],
   "source": [
    "# Spectrum-image similarity\n",
    "plot_similar_images([images[i] for i in ind_query], im_sims, similarity_type=\"x_sp_sim\")"
   ]
  },
  {
   "cell_type": "markdown",
   "metadata": {},
   "source": [
    "# Plot retrieved galaxy spectra"
   ]
  },
  {
   "cell_type": "code",
   "execution_count": null,
   "metadata": {},
   "outputs": [],
   "source": [
    "# Choose some galaxies to search for similar galaxies\n",
    "ind_query = [7, 77]\n",
    "\n",
    "# Find the indices of the galaxies in the dataset\n",
    "sp_sims = []\n",
    "\n",
    "for ind in ind_query:\n",
    "    # Compute the similarity between the query galaxy and all other galaxies\n",
    "    sp_sim = spectrum_features_normed[ind] @ spectrum_features_normed.T\n",
    "    im_sim = image_features_normed[ind] @ image_features_normed.T\n",
    "    x_im_sim = image_features_normed[ind] @ spectrum_features_normed.T\n",
    "    x_sp_sim = spectrum_features_normed[ind] @ image_features_normed.T\n",
    "\n",
    "    # Find the 8 most similar galaxies (images)\n",
    "    sp_sims.append(\n",
    "        {\n",
    "            \"sp_sim\": [spectra[i] for i in argsort(sp_sim)[::-1][:8]],\n",
    "            \"im_sim\": [spectra[i] for i in argsort(im_sim)[::-1][:8]],\n",
    "            \"x_im_sim\": [spectra[i] for i in argsort(x_im_sim)[::-1][:8]],\n",
    "            \"x_sp_sim\": [spectra[i] for i in argsort(x_sp_sim)[::-1][:8]],\n",
    "        }\n",
    "    )"
   ]
  },
  {
   "cell_type": "code",
   "execution_count": null,
   "metadata": {},
   "outputs": [],
   "source": [
    "# Image-image similarity\n",
    "plot_similar_spectra(\n",
    "    [spectra[i] for i in ind_query],\n",
    "    [images[i] for i in ind_query],\n",
    "    sp_sims,\n",
    "    similarity_type=\"im_sim\",\n",
    ")"
   ]
  },
  {
   "cell_type": "code",
   "execution_count": null,
   "metadata": {},
   "outputs": [],
   "source": [
    "# Spectrum-spectrum similarity\n",
    "plot_similar_spectra(\n",
    "    [spectra[i] for i in ind_query],\n",
    "    [images[i] for i in ind_query],\n",
    "    sp_sims,\n",
    "    similarity_type=\"sp_sim\",\n",
    ")"
   ]
  },
  {
   "cell_type": "code",
   "execution_count": null,
   "metadata": {},
   "outputs": [],
   "source": [
    "# Image-spectrum similarity\n",
    "plot_similar_spectra(\n",
    "    [spectra[i] for i in ind_query],\n",
    "    [images[i] for i in ind_query],\n",
    "    sp_sims,\n",
    "    similarity_type=\"x_im_sim\",\n",
    ")"
   ]
  },
  {
   "cell_type": "code",
   "execution_count": null,
   "metadata": {},
   "outputs": [],
   "source": [
    "# Spectrum-image similarity\n",
    "plot_similar_spectra(\n",
    "    [spectra[i] for i in ind_query],\n",
    "    [images[i] for i in ind_query],\n",
    "    sp_sims,\n",
    "    similarity_type=\"x_sp_sim\",\n",
    ")"
   ]
  }
 ],
 "metadata": {
  "kernelspec": {
   "display_name": "toto",
   "language": "python",
   "name": "toto"
  }
 },
 "nbformat": 4,
 "nbformat_minor": 2
}
