{
 "cells": [
  {
   "cell_type": "code",
   "execution_count": null,
   "metadata": {},
   "outputs": [],
   "source": [
    "%pylab inline\n",
    "import os, sys\n",
    "\n",
    "sys.path.append(\"../..\")\n",
    "import numpy as np\n",
    "import h5py\n",
    "from tqdm import tqdm\n",
    "\n",
    "from astroclip.env import format_with_env\n",
    "from plotting import plot_similar_images, plot_similar_spectra\n",
    "\n",
    "ASTROCLIP_ROOT = format_with_env(\"{ASTROCLIP_ROOT}\")\n",
    "\n",
    "# Load the embeddings\n",
    "embedding_loc = f\"{ASTROCLIP_ROOT}/datasets/embeded_astroclip.hdf5\"\n",
    "with h5py.File(embedding_loc, \"r\") as f:\n",
    "    images = f[\"image\"][:]\n",
    "    spectra = f[\"spectrum\"][:]\n",
    "    im_embeddings = f[\"image_embeddings\"][:]\n",
    "    sp_embeddings = f[\"spectrum_embeddings\"][:]\n",
    "    obj_ids = f[\"object_id\"][:]\n",
    "\n",
    "# Normalize the embeddings\n",
    "image_features_normed = im_embeddings / np.linalg.norm(\n",
    "    im_embeddings, axis=-1, keepdims=True\n",
    ")\n",
    "spectrum_features_normed = sp_embeddings / np.linalg.norm(\n",
    "    sp_embeddings, axis=-1, keepdims=True\n",
    ")"
   ]
  },
  {
   "cell_type": "code",
   "execution_count": null,
   "metadata": {},
   "outputs": [],
   "source": [
    "# Look at some randomly selected galaxies\n",
    "figure(figsize=[15, 15])\n",
    "for i in range(15):\n",
    "    for j in range(15):\n",
    "        subplot(15, 15, i * 15 + j + 1)\n",
    "        imshow(images[i * 15 + j + 1000].T)\n",
    "        title(i * 15 + j + 1000)\n",
    "        axis(\"off\")\n",
    "plt.subplots_adjust(wspace=0.1, hspace=0.11)"
   ]
  },
  {
   "cell_type": "markdown",
   "metadata": {},
   "source": [
    "# Plot retrieved galaxy images"
   ]
  },
  {
   "cell_type": "code",
   "execution_count": null,
   "metadata": {},
   "outputs": [],
   "source": [
    "# Choose some galaxies to search for similar galaxies\n",
    "ind_query = [7, 354, 526, 300]\n",
    "\n",
    "# Find the indices of the galaxies in the dataset\n",
    "im_sims = []\n",
    "\n",
    "for ind in ind_query:\n",
    "    # Compute the similarity between the query galaxy and all other galaxies\n",
    "    sp_sim = spectrum_features_normed[ind] @ spectrum_features_normed.T\n",
    "    im_sim = image_features_normed[ind] @ image_features_normed.T\n",
    "    x_im_sim = image_features_normed[ind] @ spectrum_features_normed.T\n",
    "    x_sp_sim = spectrum_features_normed[ind] @ image_features_normed.T\n",
    "\n",
    "    # Find the 8 most similar galaxies (images)\n",
    "    im_sims.append(\n",
    "        {\n",
    "            \"sp_sim\": [images[i] for i in argsort(sp_sim)[::-1][:8]],\n",
    "            \"im_sim\": [images[i] for i in argsort(im_sim)[::-1][:8]],\n",
    "            \"x_im_sim\": [images[i] for i in argsort(x_im_sim)[::-1][:8]],\n",
    "            \"x_sp_sim\": [images[i] for i in argsort(x_sp_sim)[::-1][:8]],\n",
    "        }\n",
    "    )"
   ]
  },
  {
   "cell_type": "code",
   "execution_count": null,
   "metadata": {},
   "outputs": [],
   "source": [
    "# Image-image similarity\n",
    "plot_similar_images(\n",
    "    [images[i] for i in ind_query],\n",
    "    im_sims,\n",
    "    similarity_type=\"im_sim\",\n",
    "    num_retrievals=8,\n",
    "    save_dir=\"../outputs/image_retrieval/\",\n",
    ")"
   ]
  },
  {
   "cell_type": "code",
   "execution_count": null,
   "metadata": {},
   "outputs": [],
   "source": [
    "# Spectrum-spectrum similarity\n",
    "plot_similar_images(\n",
    "    [images[i] for i in ind_query],\n",
    "    im_sims,\n",
    "    similarity_type=\"sp_sim\",\n",
    "    num_retrievals=8,\n",
    "    save_dir=\"../outputs/image_retrieval/\",\n",
    ")"
   ]
  },
  {
   "cell_type": "code",
   "execution_count": null,
   "metadata": {},
   "outputs": [],
   "source": [
    "# Image-spectrum similarity\n",
    "plot_similar_images(\n",
    "    [images[i] for i in ind_query],\n",
    "    im_sims,\n",
    "    similarity_type=\"x_im_sim\",\n",
    "    num_retrievals=8,\n",
    "    save_dir=\"../outputs/image_retrieval/\",\n",
    ")"
   ]
  },
  {
   "cell_type": "code",
   "execution_count": null,
   "metadata": {},
   "outputs": [],
   "source": [
    "# Spectrum-image similarity\n",
    "plot_similar_images(\n",
    "    [images[i] for i in ind_query],\n",
    "    im_sims,\n",
    "    similarity_type=\"x_sp_sim\",\n",
    "    num_retrievals=8,\n",
    "    save_dir=\"../outputs/image_retrieval/\",\n",
    ")"
   ]
  },
  {
   "cell_type": "markdown",
   "metadata": {},
   "source": [
    "# Plot retrieved galaxy spectra"
   ]
  },
  {
   "cell_type": "code",
   "execution_count": null,
   "metadata": {},
   "outputs": [],
   "source": [
    "# Choose some galaxies to search for similar galaxies\n",
    "ind_query = [7, 77]\n",
    "\n",
    "# Find the indices of the galaxies in the dataset\n",
    "sp_sims = []\n",
    "\n",
    "for ind in ind_query:\n",
    "    # Compute the similarity between the query galaxy and all other galaxies\n",
    "    sp_sim = spectrum_features_normed[ind] @ spectrum_features_normed.T\n",
    "    im_sim = image_features_normed[ind] @ image_features_normed.T\n",
    "    x_im_sim = image_features_normed[ind] @ spectrum_features_normed.T\n",
    "    x_sp_sim = spectrum_features_normed[ind] @ image_features_normed.T\n",
    "\n",
    "    # Find the 8 most similar galaxies (images)\n",
    "    sp_sims.append(\n",
    "        {\n",
    "            \"sp_sim\": [spectra[i] for i in argsort(sp_sim)[::-1][:8]],\n",
    "            \"im_sim\": [spectra[i] for i in argsort(im_sim)[::-1][:8]],\n",
    "            \"x_im_sim\": [spectra[i] for i in argsort(x_im_sim)[::-1][:8]],\n",
    "            \"x_sp_sim\": [spectra[i] for i in argsort(x_sp_sim)[::-1][:8]],\n",
    "        }\n",
    "    )"
   ]
  },
  {
   "cell_type": "code",
   "execution_count": null,
   "metadata": {},
   "outputs": [],
   "source": [
    "# Image-image similarity\n",
    "plot_similar_spectra(\n",
    "    [spectra[i] for i in ind_query],\n",
    "    [images[i] for i in ind_query],\n",
    "    sp_sims,\n",
    "    similarity_type=\"im_sim\",\n",
    "    save_dir=\"./outputs/spectrum_retrieval/\",\n",
    ")"
   ]
  },
  {
   "cell_type": "code",
   "execution_count": null,
   "metadata": {},
   "outputs": [],
   "source": [
    "# Spectrum-spectrum similarity\n",
    "plot_similar_spectra(\n",
    "    [spectra[i] for i in ind_query],\n",
    "    [images[i] for i in ind_query],\n",
    "    sp_sims,\n",
    "    similarity_type=\"sp_sim\",\n",
    "    save_dir=\"./outputs/spectrum_retrieval/\",\n",
    ")"
   ]
  },
  {
   "cell_type": "code",
   "execution_count": null,
   "metadata": {},
   "outputs": [],
   "source": [
    "# Image-spectrum similarity\n",
    "plot_similar_spectra(\n",
    "    [spectra[i] for i in ind_query],\n",
    "    [images[i] for i in ind_query],\n",
    "    sp_sims,\n",
    "    similarity_type=\"x_im_sim\",\n",
    "    save_dir=\"./outputs/spectrum_retrieval/\",\n",
    ")"
   ]
  },
  {
   "cell_type": "code",
   "execution_count": null,
   "metadata": {},
   "outputs": [],
   "source": [
    "# Spectrum-image similarity\n",
    "plot_similar_spectra(\n",
    "    [spectra[i] for i in ind_query],\n",
    "    [images[i] for i in ind_query],\n",
    "    sp_sims,\n",
    "    similarity_type=\"x_sp_sim\",\n",
    "    save_dir=\"./outputs/spectrum_retrieval/\",\n",
    ")"
   ]
  }
 ],
 "metadata": {
  "kernelspec": {
   "display_name": "toto",
   "language": "python",
   "name": "python3"
  },
  "language_info": {
   "codemirror_mode": {
    "name": "ipython",
    "version": 3
   },
   "file_extension": ".py",
   "mimetype": "text/x-python",
   "name": "python",
   "nbconvert_exporter": "python",
   "pygments_lexer": "ipython3",
   "version": "3.10.10"
  }
 },
 "nbformat": 4,
 "nbformat_minor": 2
}
