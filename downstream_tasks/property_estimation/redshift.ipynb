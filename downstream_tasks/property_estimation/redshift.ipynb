{
 "cells": [
  {
   "cell_type": "code",
   "execution_count": null,
   "metadata": {},
   "outputs": [],
   "source": [
    "import os\n",
    "import numpy as np\n",
    "import torch\n",
    "from astropy.table import Table\n",
    "from sklearn.preprocessing import StandardScaler\n",
    "\n",
    "from property_utils.models import few_shot, zero_shot\n",
    "from property_utils.plotting import plot_scatter\n",
    "\n",
    "PROVABGS_ROOT = \"/mnt/ceph/users/polymathic/astroclip/datasets/provabgs/\"\n",
    "SUPERVISED_ROOT = \"/mnt/ceph/users/polymathic/astroclip/supervised/\"\n",
    "\n",
    "# Define models in embeddings\n",
    "image_models = [\"astroclip_image\", \"astrodino\", \"stein\"]\n",
    "spectrum_models = [\"astroclip_spectrum\", \"specformer\"]\n",
    "\n",
    "# Set up the paths\n",
    "train_path = os.path.join(PROVABGS_ROOT, \"provabgs_paired_train_embeddings.hdf5\")\n",
    "test_path = os.path.join(PROVABGS_ROOT, \"provabgs_paired_test_embeddings.hdf5\")\n",
    "\n",
    "# Get embeddings and PROVABGS table\n",
    "train_provabgs = Table.read(train_path)\n",
    "test_provabgs = Table.read(test_path)\n",
    "\n",
    "# Get redshifts\n",
    "z_train = train_provabgs[\"Z_HP\"]\n",
    "z_test = test_provabgs[\"Z_HP\"]\n",
    "\n",
    "# Scale properties\n",
    "scaler = {\"mean\": z_train.mean(), \"std\": z_train.std()}\n",
    "z_train = (z_train - scaler[\"mean\"]) / scaler[\"std\"]\n",
    "\n",
    "print(\n",
    "    \"Size of training set:\",\n",
    "    len(train_provabgs),\n",
    "    \"\\nSize of test set:\",\n",
    "    len(test_provabgs),\n",
    ")"
   ]
  },
  {
   "cell_type": "markdown",
   "metadata": {},
   "source": [
    "# Redshift estimation from image embeddings"
   ]
  },
  {
   "cell_type": "code",
   "execution_count": null,
   "metadata": {},
   "outputs": [],
   "source": [
    "# Get data\n",
    "data = {}\n",
    "for model in image_models:\n",
    "    data[model] = {}\n",
    "    X_train, X_test = (\n",
    "        train_provabgs[model + \"_embeddings\"],\n",
    "        test_provabgs[model + \"_embeddings\"],\n",
    "    )\n",
    "    embedding_scaler = StandardScaler().fit(X_train)\n",
    "    data[model][\"train\"] = embedding_scaler.transform(X_train)\n",
    "    data[model][\"test\"] = embedding_scaler.transform(X_test)"
   ]
  },
  {
   "cell_type": "code",
   "execution_count": null,
   "metadata": {},
   "outputs": [],
   "source": [
    "# Perfrom knn and mlp\n",
    "preds_knn, preds_mlp = {}, {}\n",
    "for key in data.keys():\n",
    "    print(f\"Evaluating {key} model...\")\n",
    "    raw_preds_knn = zero_shot(data[key][\"train\"], z_train, data[key][\"test\"])\n",
    "    raw_preds_mlp = few_shot(\n",
    "        model, data[key][\"train\"], z_train, data[key][\"test\"], hidden_dims=[32]\n",
    "    ).squeeze()\n",
    "    preds_knn[key] = raw_preds_knn * scaler[\"std\"] + scaler[\"mean\"]\n",
    "    preds_mlp[key] = raw_preds_mlp * scaler[\"std\"] + scaler[\"mean\"]"
   ]
  },
  {
   "cell_type": "code",
   "execution_count": null,
   "metadata": {},
   "outputs": [],
   "source": [
    "# Plot scatter plots\n",
    "save_path = \"./outputs/redshift/image\"\n",
    "if not os.path.exists(save_path):\n",
    "    os.makedirs(save_path)\n",
    "plot_scatter(preds_knn, z_test, save_loc=f\"{save_path}/redshift_scatter_knn.png\")\n",
    "plot_scatter(preds_mlp, z_test, save_loc=f\"{save_path}/redshift_scatter_mlp.png\")"
   ]
  },
  {
   "cell_type": "code",
   "execution_count": null,
   "metadata": {},
   "outputs": [],
   "source": [
    "# Get predictions from  supervised models\n",
    "preds_supervised = {\n",
    "    \"resnet18\": torch.load(\n",
    "        os.path.join(SUPERVISED_ROOT, \"image/ResNet18/redshift/test_pred.pt\")\n",
    "    )[\"Z_HP\"],\n",
    "    \"photometry\": torch.load(\n",
    "        os.path.join(SUPERVISED_ROOT, \"photometry/MLP/redshift/test_pred.pt\")\n",
    "    )[\"Z_HP\"],\n",
    "}\n",
    "\n",
    "save_path = \"./outputs/redshift/image\"\n",
    "if not os.path.exists(save_path):\n",
    "    os.makedirs(save_path)\n",
    "plot_scatter(\n",
    "    preds_supervised, z_test, save_loc=f\"{save_path}/redshift_scatter_supervised.png\"\n",
    ")"
   ]
  },
  {
   "cell_type": "markdown",
   "metadata": {},
   "source": [
    "# Redshift Estimation from Spectra Embeddings"
   ]
  },
  {
   "cell_type": "code",
   "execution_count": null,
   "metadata": {},
   "outputs": [],
   "source": [
    "# Get data\n",
    "data = {}\n",
    "for model in spectrum_models:\n",
    "    data[model] = {}\n",
    "    X_train, X_test = (\n",
    "        train_provabgs[model + \"_embeddings\"],\n",
    "        test_provabgs[model + \"_embeddings\"],\n",
    "    )\n",
    "    embedding_scaler = StandardScaler().fit(X_train)\n",
    "    data[model][\"train\"] = embedding_scaler.transform(X_train)\n",
    "    data[model][\"test\"] = embedding_scaler.transform(X_test)"
   ]
  },
  {
   "cell_type": "code",
   "execution_count": null,
   "metadata": {},
   "outputs": [],
   "source": [
    "# Perfrom knn and mlp\n",
    "preds_knn, preds_mlp = {}, {}\n",
    "for key in data.keys():\n",
    "    print(f\"Evaluating {key} model...\")\n",
    "    raw_preds_knn = zero_shot(data[key][\"train\"], z_train, data[key][\"test\"])\n",
    "    raw_preds_mlp = few_shot(\n",
    "        model, data[key][\"train\"], z_train, data[key][\"test\"]\n",
    "    ).squeeze()\n",
    "    preds_knn[key] = raw_preds_knn * scaler[\"std\"] + scaler[\"mean\"]\n",
    "    preds_mlp[key] = raw_preds_mlp * scaler[\"std\"] + scaler[\"mean\"]"
   ]
  },
  {
   "cell_type": "code",
   "execution_count": null,
   "metadata": {},
   "outputs": [],
   "source": [
    "# Get predictions from supervised models\n",
    "spectrum_preds = torch.load(\n",
    "    os.path.join(SUPERVISED_ROOT, \"spectrum/Conv+Att/redshift/test_pred.pt\")\n",
    ")[\"Z_HP\"]\n",
    "\n",
    "# Add predictions to dictionary\n",
    "preds_knn[\"conv+att\"] = spectrum_preds\n",
    "preds_mlp[\"conv+att\"] = spectrum_preds"
   ]
  },
  {
   "cell_type": "code",
   "execution_count": null,
   "metadata": {},
   "outputs": [],
   "source": [
    "# Plot scatter plots\n",
    "save_path = \"./outputs/redshift/spectrum\"\n",
    "if not os.path.exists(save_path):\n",
    "    os.makedirs(save_path)\n",
    "plot_scatter(preds_knn, z_test, save_loc=f\"{save_path}/redshift_scatter_knn.png\")\n",
    "plot_scatter(preds_mlp, z_test, save_loc=f\"{save_path}/redshift_scatter_mlp.png\")"
   ]
  },
  {
   "cell_type": "code",
   "execution_count": null,
   "metadata": {},
   "outputs": [],
   "source": []
  }
 ],
 "metadata": {
  "kernelspec": {
   "display_name": "toto",
   "language": "python",
   "name": "toto"
  },
  "language_info": {
   "codemirror_mode": {
    "name": "ipython",
    "version": 3
   },
   "file_extension": ".py",
   "mimetype": "text/x-python",
   "name": "python",
   "nbconvert_exporter": "python",
   "pygments_lexer": "ipython3",
   "version": "3.10.10"
  }
 },
 "nbformat": 4,
 "nbformat_minor": 2
}
