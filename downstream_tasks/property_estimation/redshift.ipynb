{
 "cells": [
  {
   "cell_type": "code",
   "execution_count": null,
   "metadata": {},
   "outputs": [],
   "source": [
    "import os\n",
    "from astropy.table import Table, join\n",
    "import torch\n",
    "from sklearn.metrics import r2_score\n",
    "from sklearn.neighbors import KNeighborsRegressor\n",
    "from sklearn.preprocessing import StandardScaler\n",
    "\n",
    "from models import MLP\n",
    "from heads import zero_shot, few_shot\n",
    "\n",
    "supervised_path = \"/mnt/ceph/users/polymathic/astroclip/supervised/\"\n",
    "\n",
    "# Load the data\n",
    "train_provabgs = Table.read(\n",
    "    \"/mnt/ceph/users/polymathic/astroclip/datasets/provabgs/provabgs_paired_train_embeddings.hdf5\"\n",
    ")\n",
    "test_provabgs = Table.read(\n",
    "    \"/mnt/ceph/users/polymathic/astroclip/datasets/provabgs/provabgs_paired_test_embeddings.hdf5\"\n",
    ")"
   ]
  },
  {
   "cell_type": "code",
   "execution_count": null,
   "metadata": {},
   "outputs": [],
   "source": [
    "models = [\"astrodino\"]\n",
    "\n",
    "# Get data\n",
    "data = {}\n",
    "for model in models:\n",
    "    data[model] = {}\n",
    "    X_train, X_test = (\n",
    "        train_provabgs[model + \"_embeddings\"],\n",
    "        test_provabgs[model + \"_embeddings\"],\n",
    "    )\n",
    "    embedding_scaler = StandardScaler().fit(X_train)\n",
    "    data[model][\"train\"] = embedding_scaler.transform(X_train)\n",
    "    data[model][\"test\"] = embedding_scaler.transform(X_test)\n",
    "\n",
    "# Get redshifts\n",
    "z_train = train_provabgs[\"Z_HP\"]\n",
    "z_test = test_provabgs[\"Z_HP\"]\n",
    "\n",
    "# Scale properties\n",
    "scaler = {\"mean\": z_train.mean(), \"std\": z_train.std()}\n",
    "z_train = (z_train - scaler[\"mean\"]) / scaler[\"std\"]"
   ]
  },
  {
   "cell_type": "code",
   "execution_count": null,
   "metadata": {},
   "outputs": [],
   "source": [
    "from models import MLP\n",
    "\n",
    "model = MLP(1024, 1)"
   ]
  },
  {
   "cell_type": "code",
   "execution_count": null,
   "metadata": {},
   "outputs": [],
   "source": [
    "from heads import zero_shot, few_shot\n",
    "\n",
    "preds_knn, preds_mlp = {}, {}\n",
    "\n",
    "for key in data.keys():\n",
    "    raw_preds_knn = zero_shot(data[key][\"train\"], z_train, data[key][\"test\"])\n",
    "    raw_preds_mlp = few_shot(model, data[key][\"train\"], z_train, data[key][\"test\"])\n",
    "    preds_knn[key] = raw_preds_knn * scaler[\"std\"] + scaler[\"mean\"]\n",
    "    preds_mlp[key] = raw_preds_mlp * scaler[\"std\"] + scaler[\"mean\"]"
   ]
  },
  {
   "cell_type": "code",
   "execution_count": null,
   "metadata": {},
   "outputs": [],
   "source": [
    "# Get predictions from supervised models\n",
    "\n",
    "supervised_path = \"/mnt/ceph/users/polymathic/astroclip/supervised/\"\n",
    "\n",
    "supervised = {\n",
    "    \"resnet18\": torch.load(os.path.join(supervised_path, \"image/test_pred.pt\"))[\"Z_HP\"],\n",
    "    \"photometry\": torch.load(os.path.join(supervised_path, \"photometry/test_pred.pt\"))[\n",
    "        \"Z_HP\"\n",
    "    ],\n",
    "}"
   ]
  },
  {
   "cell_type": "code",
   "execution_count": null,
   "metadata": {},
   "outputs": [],
   "source": [
    "r2_score(z_test, supervised[\"resnet18\"]), r2_score(z_test, supervised[\"photometry\"])"
   ]
  },
  {
   "cell_type": "code",
   "execution_count": null,
   "metadata": {},
   "outputs": [],
   "source": []
  }
 ],
 "metadata": {
  "kernelspec": {
   "display_name": "toto",
   "language": "python",
   "name": "toto"
  },
  "language_info": {
   "codemirror_mode": {
    "name": "ipython",
    "version": 3
   },
   "file_extension": ".py",
   "mimetype": "text/x-python",
   "name": "python",
   "nbconvert_exporter": "python",
   "pygments_lexer": "ipython3",
   "version": "3.10.10"
  }
 },
 "nbformat": 4,
 "nbformat_minor": 2
}
