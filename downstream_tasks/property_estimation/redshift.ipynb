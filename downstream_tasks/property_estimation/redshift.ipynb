{
 "cells": [
  {
   "cell_type": "code",
   "execution_count": null,
   "metadata": {},
   "outputs": [],
   "source": [
    "from astropy.table import Table, join\n",
    "import torch\n",
    "from sklearn.metrics import r2_score\n",
    "from sklearn.neighbors import KNeighborsRegressor\n",
    "from sklearn.preprocessing import StandardScaler\n",
    "\n",
    "# Load the data\n",
    "train_provabgs = Table.read(\n",
    "    \"/mnt/ceph/users/polymathic/astroclip/datasets/provabgs/provabgs_paired_train_embeddings.hdf5\"\n",
    ")\n",
    "test_provabgs = Table.read(\n",
    "    \"/mnt/ceph/users/polymathic/astroclip/datasets/provabgs/provabgs_paired_test_embeddings.hdf5\"\n",
    ")"
   ]
  },
  {
   "cell_type": "code",
   "execution_count": null,
   "metadata": {},
   "outputs": [],
   "source": [
    "from helpers import scale_properties, unscale_properties\n",
    "\n",
    "models = [\"astrodino\"]\n",
    "\n",
    "data = {}\n",
    "for model in models:\n",
    "    data[model] = {}\n",
    "    X_train, X_test = (\n",
    "        train_provabgs[model + \"_embeddings\"],\n",
    "        test_provabgs[model + \"_embeddings\"],\n",
    "    )\n",
    "    property_train, property_test = {\"Z_HP\": train_provabgs[\"Z_HP\"]}, {\n",
    "        \"Z_HP\": test_provabgs[\"Z_HP\"]\n",
    "    }\n",
    "    y_train, scaler = scale_properties(property_train)"
   ]
  },
  {
   "cell_type": "code",
   "execution_count": null,
   "metadata": {},
   "outputs": [],
   "source": [
    "models = [\"astrodino\"]\n",
    "\n",
    "# Get data\n",
    "data = {}\n",
    "for model in models:\n",
    "    data[model] = {}\n",
    "    X_train, X_test = (\n",
    "        train_provabgs[model + \"_embeddings\"],\n",
    "        test_provabgs[model + \"_embeddings\"],\n",
    "    )\n",
    "    embedding_scaler = StandardScaler().fit(X_train)\n",
    "    data[model][\"train\"] = embedding_scaler.transform(X_train)\n",
    "    data[model][\"test\"] = embedding_scaler.transform(X_test)\n",
    "\n",
    "# Get redshifts\n",
    "train_redshift = torch.tensor(y_train[\"Z_HP\"])\n",
    "test_redshift = torch.tensor(test_provabgs[\"Z_HP\"])"
   ]
  },
  {
   "cell_type": "code",
   "execution_count": null,
   "metadata": {},
   "outputs": [],
   "source": [
    "from helpers import zero_shot, few_shot\n",
    "from models import MLP\n",
    "\n",
    "model = MLP(1024, 1)"
   ]
  },
  {
   "cell_type": "code",
   "execution_count": null,
   "metadata": {},
   "outputs": [],
   "source": [
    "preds_knn, preds_mlp = {}, {}\n",
    "\n",
    "for key in data.keys():\n",
    "    raw_preds_knn = zero_shot(data[key][\"train\"], train_redshift, data[key][\"test\"])\n",
    "    raw_preds_mlp = few_shot(\n",
    "        model, data[key][\"train\"], train_redshift, data[key][\"test\"]\n",
    "    )\n",
    "    preds_knn[key] = scaler[\"Z_HP\"].inverse_transform(raw_preds_knn)\n",
    "    preds_mlp[key] = scaler[\"Z_HP\"].inverse_transform(raw_preds_mlp)"
   ]
  },
  {
   "cell_type": "code",
   "execution_count": null,
   "metadata": {},
   "outputs": [],
   "source": [
    "r2_score(test_redshift, preds_knn[\"astrodino\"]), r2_score(\n",
    "    test_redshift, preds_mlp[\"astrodino\"]\n",
    ")"
   ]
  },
  {
   "cell_type": "code",
   "execution_count": null,
   "metadata": {},
   "outputs": [],
   "source": []
  }
 ],
 "metadata": {
  "kernelspec": {
   "display_name": "toto",
   "language": "python",
   "name": "toto"
  },
  "language_info": {
   "codemirror_mode": {
    "name": "ipython",
    "version": 3
   },
   "file_extension": ".py",
   "mimetype": "text/x-python",
   "name": "python",
   "nbconvert_exporter": "python",
   "pygments_lexer": "ipython3",
   "version": "3.10.10"
  }
 },
 "nbformat": 4,
 "nbformat_minor": 2
}
