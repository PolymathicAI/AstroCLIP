{
 "cells": [
  {
   "cell_type": "code",
   "execution_count": null,
   "metadata": {},
   "outputs": [],
   "source": [
    "from astropy.table import Table, join\n",
    "from sklearn.metrics import r2_score\n",
    "from sklearn.neighbors import KNeighborsRegressor\n",
    "from sklearn.preprocessing import StandardScaler\n",
    "\n",
    "# Load the data\n",
    "train_provabgs = Table.read(\n",
    "    \"/mnt/ceph/users/polymathic/astroclip/datasets/provabgs/provabgs_paired_train_embeddings.hdf5\"\n",
    ")\n",
    "test_provabgs = Table.read(\n",
    "    \"/mnt/ceph/users/polymathic/astroclip/datasets/provabgs/provabgs_paired_test_embeddings.hdf5\"\n",
    ")"
   ]
  },
  {
   "cell_type": "code",
   "execution_count": null,
   "metadata": {},
   "outputs": [],
   "source": [
    "models = [\"astrodino\"]\n",
    "\n",
    "# Get data\n",
    "data = {}\n",
    "for model in models:\n",
    "    data[model] = {}\n",
    "    X_train, X_test = (\n",
    "        train_provabgs[model + \"_embeddings\"],\n",
    "        test_provabgs[model + \"_embeddings\"],\n",
    "    )\n",
    "    embedding_scaler = StandardScaler().fit(X_train)\n",
    "    data[model][\"train\"] = embedding_scaler.transform(X_train)\n",
    "    data[model][\"test\"] = embedding_scaler.transform(X_test)\n",
    "\n",
    "# Get redshifts\n",
    "train_redshift = train_provabgs[\"Z_HP\"].reshape(-1, 1)\n",
    "test_redshift = test_provabgs[\"Z_HP\"].reshape(-1, 1)\n",
    "\n",
    "# Scale redshifts\n",
    "scaler = StandardScaler().fit(train_redshift)\n",
    "train_redshift = scaler.transform(train_redshift)"
   ]
  },
  {
   "cell_type": "code",
   "execution_count": null,
   "metadata": {},
   "outputs": [],
   "source": [
    "def zero_shot_train(X_train, y_train, X_test):\n",
    "    neigh = KNeighborsRegressor(weights=\"distance\", n_neighbors=64)\n",
    "    neigh.fit(X_train, y_train)\n",
    "    preds = neigh.predict(X_test)\n",
    "    return preds\n",
    "\n",
    "def few_shot_train(X_train, y_train, X_test)"
   ]
  },
  {
   "cell_type": "code",
   "execution_count": null,
   "metadata": {},
   "outputs": [],
   "source": [
    "preds, truths = {}, {}\n",
    "\n",
    "for model in data.keys():\n",
    "    raw_preds = zero_shot_train(\n",
    "        data[model][\"train\"], train_redshift, data[model][\"test\"]\n",
    "    )\n",
    "    preds[model] = scaler.inverse_transform(raw_preds)\n",
    "    truths[model] = test_redshift"
   ]
  },
  {
   "cell_type": "code",
   "execution_count": null,
   "metadata": {},
   "outputs": [],
   "source": [
    "r2_score(truths[\"astrodino\"], preds[\"astrodino\"])"
   ]
  }
 ],
 "metadata": {
  "kernelspec": {
   "display_name": "toto",
   "language": "python",
   "name": "toto"
  }
 },
 "nbformat": 4,
 "nbformat_minor": 2
}
