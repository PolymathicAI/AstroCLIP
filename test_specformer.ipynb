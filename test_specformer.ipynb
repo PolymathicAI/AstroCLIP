{
 "cells": [
  {
   "cell_type": "code",
   "execution_count": null,
   "metadata": {},
   "outputs": [],
   "source": [
    "import torch\n",
    "\n",
    "from astroclip.datasets import AstroClipDataloader\n",
    "from astroclip.models.specformer import SpecFormer\n",
    "from astroclip import format_with_env"
   ]
  },
  {
   "cell_type": "code",
   "execution_count": null,
   "metadata": {},
   "outputs": [],
   "source": [
    "DATASET_PATH = format_with_env(\"{ASTROCLIP_ROOT}/datasets/astroclip_file/\")\n",
    "dataset = AstroClipDataloader(\n",
    "    path=DATASET_PATH,\n",
    "    columns=\"spectrum\",\n",
    "    batch_size=32,\n",
    "    num_workers=0,\n",
    ")"
   ]
  },
  {
   "cell_type": "code",
   "execution_count": null,
   "metadata": {},
   "outputs": [],
   "source": [
    "dataset.setup(None)\n",
    "dataloader = dataset.train_dataloader()\n",
    "sample = next(iter(dataloader))"
   ]
  },
  {
   "cell_type": "code",
   "execution_count": null,
   "metadata": {},
   "outputs": [],
   "source": [
    "# Convert old checkpoint to new formats\n",
    "model = SpecFormer(\n",
    "    input_dim=22,\n",
    "    embed_dim=768,\n",
    "    num_layers=6,\n",
    "    num_heads=6,\n",
    "    max_len=800,\n",
    "    dropout=0.0,\n",
    "    norm_first=False,\n",
    ")\n",
    "checkpoint = torch.load(\n",
    "    \"/mnt/home/sgolkar/ceph/saves/fillm/run-seqformer-2708117/ckpt.pt\"\n",
    ")\n",
    "model.load_state_dict(checkpoint[\"model\"])\n",
    "torch.save(\n",
    "    {\"state_dict\": model.state_dict(), \"hyper_parameters\": model.hparams},\n",
    "    format_with_env(\"{ASTROCLIP_ROOT}/pretrained/specformer.ckpt\"),\n",
    ")"
   ]
  },
  {
   "cell_type": "code",
   "execution_count": null,
   "metadata": {},
   "outputs": [],
   "source": [
    "CHECKPOINT_PATH = \"{ASTROCLIP_ROOT}/pretrained/specformer.ckpt\"\n",
    "CHECKPOINT_PATH = format_with_env(\n",
    "    \"/mnt/ceph/users/polymathic/astroclip/outputs/astroclip-spectrum/wfms4nfu/checkpoints/last.ckpt\"\n",
    ")\n",
    "checkpoint = torch.load(format_with_env(CHECKPOINT_PATH))\n",
    "model = SpecFormer(**checkpoint[\"hyper_parameters\"])\n",
    "model.load_state_dict(checkpoint[\"state_dict\"])"
   ]
  },
  {
   "cell_type": "code",
   "execution_count": null,
   "metadata": {},
   "outputs": [],
   "source": [
    "import matplotlib.pyplot as plt\n",
    "\n",
    "plt.figure(figsize=[15, 5])\n",
    "for samp in range(4):\n",
    "    plt.subplot(1, 4, samp + 1)\n",
    "    batch = next(iter(dataloader))[\"spectrum\"]\n",
    "    in_ = model.preprocess(batch)\n",
    "    sp_ = model.mask_sequence(in_)\n",
    "    out_ = model.forward_without_preprocessing(sp_)[\"predictions\"].detach()\n",
    "    plt.plot(in_[samp, :, 6], label=\"original\")\n",
    "    plt.plot(sp_[samp, :, 6].detach(), label=\"dropped\", linestyle=\"--\", alpha=0.5)\n",
    "    plt.plot(out_[samp, :, 6].detach(), label=\"output\")\n",
    "\n",
    "    plt.legend()"
   ]
  },
  {
   "cell_type": "code",
   "execution_count": null,
   "metadata": {},
   "outputs": [],
   "source": []
  }
 ],
 "metadata": {
  "kernelspec": {
   "display_name": "astrodino",
   "language": "python",
   "name": "python3"
  },
  "language_info": {
   "codemirror_mode": {
    "name": "ipython",
    "version": 3
   },
   "file_extension": ".py",
   "mimetype": "text/x-python",
   "name": "python",
   "nbconvert_exporter": "python",
   "pygments_lexer": "ipython3",
   "version": "3.10.13"
  }
 },
 "nbformat": 4,
 "nbformat_minor": 2
}
