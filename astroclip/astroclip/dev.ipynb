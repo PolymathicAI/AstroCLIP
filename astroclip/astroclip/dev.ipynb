{
 "cells": [
  {
   "cell_type": "code",
   "execution_count": null,
   "metadata": {},
   "outputs": [],
   "source": [
    "import os, sys\n",
    "\n",
    "sys.path.append(\"../..\")\n",
    "\n",
    "from astroclip.astroclip.preprocessing import AstroClipCollator\n",
    "from astroclip.astroclip.data import AstroClipDataloader"
   ]
  },
  {
   "cell_type": "code",
   "execution_count": null,
   "metadata": {},
   "outputs": [],
   "source": [
    "loader = AstroClipDataloader(\n",
    "    \"/mnt/ceph/users/polymathic/mmoma/datasets/astroclip_file/\",\n",
    "    collate_fn=AstroClipCollator(center_crop=144),\n",
    "    batch_size=10,\n",
    ")\n",
    "\n",
    "loader.setup(\"fit\")"
   ]
  },
  {
   "cell_type": "code",
   "execution_count": null,
   "metadata": {},
   "outputs": [],
   "source": [
    "dummy = next(iter(loader.train_dataloader()))"
   ]
  },
  {
   "cell_type": "code",
   "execution_count": null,
   "metadata": {},
   "outputs": [],
   "source": [
    "%pylab inline\n",
    "\n",
    "imshow(dummy[\"image\"][0].permute(1, 2, 0))"
   ]
  },
  {
   "cell_type": "code",
   "execution_count": null,
   "metadata": {},
   "outputs": [],
   "source": [
    "from astroclip.astroclip.modules.spectrum import SpectrumModule\n",
    "\n",
    "spectrummodule = SpectrumModule(\n",
    "    model_path=\"/mnt/home/sgolkar/ceph/saves/fillm/run-seqformer-2708117\",\n",
    ")\n",
    "\n",
    "spectrummodule.cuda()\n",
    "\n",
    "spectrummodule.forward(dummy[\"spectrum\"].cuda()).shape"
   ]
  },
  {
   "cell_type": "code",
   "execution_count": null,
   "metadata": {},
   "outputs": [],
   "source": [
    "from astroclip.astroclip.modules.image import ImageModule\n",
    "\n",
    "imagemodule = ImageModule(\n",
    "    config=\"/mnt/home/lparker/Documents/AstroFoundationModel/AstroDino_legacy/astrodino/configs/ssl_default_config.yaml\",\n",
    "    model_weights=\"/mnt/home/lparker/ceph/astrodino/vitl12_simplified_better_wd/training_199999/teacher_checkpoint.pth\",\n",
    "    save_directory=\"/mnt/home/lparker/ceph/dino_training\",\n",
    ")"
   ]
  },
  {
   "cell_type": "code",
   "execution_count": null,
   "metadata": {},
   "outputs": [],
   "source": [
    "imagemodule.cuda()\n",
    "\n",
    "imagemodule.forward(dummy[\"image\"].cuda()).shape"
   ]
  },
  {
   "cell_type": "code",
   "execution_count": null,
   "metadata": {},
   "outputs": [],
   "source": [
    "from astroclip.astroclip.model import AstroClipModel"
   ]
  },
  {
   "cell_type": "code",
   "execution_count": null,
   "metadata": {},
   "outputs": [],
   "source": [
    "astroclip = AstroClipModel(\n",
    "    image_encoder=imagemodule,\n",
    "    spectrum_encoder=spectrummodule,\n",
    "    temperature=15.5,\n",
    ")\n",
    "\n",
    "astroclip.cuda()\n",
    "\n",
    "dummy.\n",
    "\n",
    "astroclip.training_step(dummy, 0)"
   ]
  },
  {
   "cell_type": "code",
   "execution_count": null,
   "metadata": {},
   "outputs": [],
   "source": []
  }
 ],
 "metadata": {
  "kernelspec": {
   "display_name": "dino",
   "language": "python",
   "name": "python3"
  },
  "language_info": {
   "codemirror_mode": {
    "name": "ipython",
    "version": 3
   },
   "file_extension": ".py",
   "mimetype": "text/x-python",
   "name": "python",
   "nbconvert_exporter": "python",
   "pygments_lexer": "ipython3",
   "version": "3.9.15"
  }
 },
 "nbformat": 4,
 "nbformat_minor": 2
}
