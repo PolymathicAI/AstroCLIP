{
 "cells": [
  {
   "cell_type": "code",
   "execution_count": null,
   "metadata": {},
   "outputs": [],
   "source": [
    "import os\n",
    "\n",
    "os.chdir(\"../..\")"
   ]
  },
  {
   "cell_type": "code",
   "execution_count": null,
   "metadata": {},
   "outputs": [],
   "source": [
    "import torch\n",
    "\n",
    "from astroclip.datasets.astroclip_dataloader import AstroClipDataset\n",
    "from astroclip.datasets.preprocessing.spectrum import SpectrumCollator\n",
    "from astroclip.specformer.model import SpecFormer\n",
    "from astroclip import format_with_env"
   ]
  },
  {
   "cell_type": "code",
   "execution_count": null,
   "metadata": {},
   "outputs": [],
   "source": [
    "DATASET_PATH = format_with_env(\"{ASTROCLIP_ROOT}/datasets/astroclip_file/\")\n",
    "collator = SpectrumCollator(num_chunks=0, chunk_width=50)\n",
    "dataset = AstroClipDataset(\n",
    "    path=DATASET_PATH,\n",
    "    columns=\"spectrum\",\n",
    "    batch_size=32,\n",
    "    num_workers=0,\n",
    "    collate_fn=collator,\n",
    ")"
   ]
  },
  {
   "cell_type": "code",
   "execution_count": null,
   "metadata": {},
   "outputs": [],
   "source": [
    "dataset.setup(None)\n",
    "dataloader = dataset.train_dataloader()\n",
    "sample = next(iter(dataloader))"
   ]
  },
  {
   "cell_type": "code",
   "execution_count": null,
   "metadata": {},
   "outputs": [],
   "source": [
    "CHECKPOINT_PATH = \"{ASTROCLIP_ROOT}/pretrained/specformer.ckpt\"\n",
    "CHECKPOINT_PATH = format_with_env(\n",
    "    \"/mnt/ceph/users/polymathic/astroclip/outputs/astroclip-spectrum/364hmgbl/checkpoints/last.ckpt\"\n",
    ")\n",
    "\n",
    "checkpoint = torch.load(format_with_env(CHECKPOINT_PATH))"
   ]
  },
  {
   "cell_type": "code",
   "execution_count": null,
   "metadata": {},
   "outputs": [],
   "source": [
    "model = SpecFormer(\n",
    "    input_dim=22,\n",
    "    embed_dim=768,\n",
    "    num_layers=6,\n",
    "    num_heads=6,\n",
    "    max_len=800,\n",
    "    dropout=0.0,\n",
    "    norm_first=False,\n",
    ")\n",
    "\n",
    "model.load_state_dict(state_dict=checkpoint[\"state_dict\"])"
   ]
  },
  {
   "cell_type": "code",
   "execution_count": null,
   "metadata": {},
   "outputs": [],
   "source": [
    "import matplotlib.pyplot as plt\n",
    "\n",
    "plt.figure(figsize=[15, 5])\n",
    "for samp in range(4):\n",
    "    plt.subplot(1, 4, samp + 1)\n",
    "    batch = next(iter(dataloader))\n",
    "    sp_ = batch[\"target\"][samp, :, 6]\n",
    "    in_ = batch[\"input\"][samp, :, 6]\n",
    "    out_ = model(batch[\"input\"])[samp, :, 6].detach()\n",
    "    plt.plot(sp_, label=\"original\")\n",
    "    plt.plot(in_, label=\"dropped\", linestyle=\"--\", alpha=0.5)\n",
    "    plt.plot(out_, label=\"output\")\n",
    "\n",
    "    plt.legend()"
   ]
  }
 ],
 "metadata": {
  "kernelspec": {
   "display_name": "astrodino",
   "language": "python",
   "name": "python3"
  },
  "language_info": {
   "codemirror_mode": {
    "name": "ipython",
    "version": 3
   },
   "file_extension": ".py",
   "mimetype": "text/x-python",
   "name": "python",
   "nbconvert_exporter": "python",
   "pygments_lexer": "ipython3",
   "version": "3.9.15"
  }
 },
 "nbformat": 4,
 "nbformat_minor": 2
}
