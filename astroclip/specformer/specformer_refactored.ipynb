{
 "cells": [
  {
   "cell_type": "code",
   "execution_count": 1,
   "metadata": {},
   "outputs": [],
   "source": [
    "import os\n",
    "os.chdir(\"../..\")"
   ]
  },
  {
   "cell_type": "code",
   "execution_count": 2,
   "metadata": {},
   "outputs": [],
   "source": [
    "import astroclip\n",
    "from astroclip.specformer.data import AstroClipDataset\n",
    "from astroclip.specformer.preprocessing import spectrum_collate_fn\n",
    "from astroclip.specformer.model import SpecFormer\n",
    "\n",
    "from astroclip import format_with_env\n",
    "import torch\n",
    "import numpy as np"
   ]
  },
  {
   "cell_type": "code",
   "execution_count": 3,
   "metadata": {},
   "outputs": [
    {
     "name": "stderr",
     "output_type": "stream",
     "text": [
      "/mnt/home/lsarra/notebooks/AstroCLIP_v2/astroclip/env.py:29: UserWarning: No .env file found in /mnt/home/lsarra/notebooks/AstroCLIP_v2/astroclip. Using default environment variables for rusty. To suppress this warning, create /mnt/home/lsarra/notebooks/AstroCLIP_v2/astroclip/.env with, e.g., the following content:\n",
      "ASTROCLIP_ROOT=\"/mnt/ceph/users/polymathic/astroclip\"\n",
      "\n",
      "  warn(\n"
     ]
    }
   ],
   "source": [
    "DATASET_PATH = format_with_env(\"{ASTROCLIP_ROOT}/datasets/astroclip_file/\")\n",
    "dataset = AstroClipDataset(\n",
    "    path=DATASET_PATH,\n",
    "    columns=\"spectrum\",\n",
    "    batch_size=32,\n",
    "    num_workers=0,\n",
    "    collate_fn=spectrum_collate_fn,\n",
    ")"
   ]
  },
  {
   "cell_type": "code",
   "execution_count": 4,
   "metadata": {},
   "outputs": [
    {
     "data": {
      "application/vnd.jupyter.widget-view+json": {
       "model_id": "4f287dc7495742b38be16c84ac086f2e",
       "version_major": 2,
       "version_minor": 0
      },
      "text/plain": [
       "Loading dataset from disk:   0%|          | 0/138 [00:00<?, ?it/s]"
      ]
     },
     "metadata": {},
     "output_type": "display_data"
    },
    {
     "data": {
      "application/vnd.jupyter.widget-view+json": {
       "model_id": "e3d0d49fef3a4705ab0867d57d8bf758",
       "version_major": 2,
       "version_minor": 0
      },
      "text/plain": [
       "Loading dataset from disk:   0%|          | 0/35 [00:00<?, ?it/s]"
      ]
     },
     "metadata": {},
     "output_type": "display_data"
    }
   ],
   "source": [
    "dataset.setup(None)\n",
    "dataloader = dataset.train_dataloader()\n",
    "sample = next(iter(dataloader))"
   ]
  },
  {
   "cell_type": "code",
   "execution_count": 5,
   "metadata": {},
   "outputs": [],
   "source": [
    "model = SpecFormer(\n",
    "    input_dim=196,\n",
    "    embed_dim=192,\n",
    "    num_layers=3,\n",
    "    num_heads=3,\n",
    "    max_len=80,\n",
    "    dropout=0.1,\n",
    "    norm_first=False,\n",
    ")"
   ]
  },
  {
   "cell_type": "code",
   "execution_count": 6,
   "metadata": {},
   "outputs": [
    {
     "data": {
      "text/plain": [
       "tensor([[[-1.6867e-01, -1.5489e-01, -1.3822e-01,  ..., -1.3822e-01,\n",
       "          -1.3822e-01, -1.3822e-01],\n",
       "         [-3.1187e-01, -3.1187e-01, -1.3778e+01,  ..., -1.0150e+00,\n",
       "           7.2542e-01, -2.8927e+00],\n",
       "         [ 1.3583e-01,  1.3583e-01,  1.5742e+00,  ..., -3.8873e+00,\n",
       "          -1.5580e+00, -9.9143e-01],\n",
       "         ...,\n",
       "         [-5.2540e-01, -5.2540e-01, -5.2540e-01,  ..., -5.2540e-01,\n",
       "          -5.2540e-01, -5.2540e-01],\n",
       "         [ 4.3451e-01,  4.3451e-01,  7.0445e-01,  ...,  5.4720e-01,\n",
       "           4.6722e-01,  7.6217e-01],\n",
       "         [-2.4214e-01, -2.4214e-01,  5.6414e-02,  ...,  5.0943e-01,\n",
       "           1.3824e-02, -3.2929e-01]],\n",
       "\n",
       "        [[-5.9493e-01, -3.1724e-01, -1.6008e-01,  ..., -1.6008e-01,\n",
       "          -1.6008e-01, -1.6008e-01],\n",
       "         [ 2.5711e-01,  2.5711e-01, -1.4247e+00,  ...,  5.9050e-01,\n",
       "          -1.6170e+00, -1.4869e+00],\n",
       "         [-1.0988e-01, -1.0988e-01, -3.1343e+00,  ..., -1.9256e+00,\n",
       "          -2.0161e+00, -1.8967e+00],\n",
       "         ...,\n",
       "         [-5.4780e-01, -5.4780e-01, -5.4780e-01,  ..., -5.4780e-01,\n",
       "          -5.4780e-01, -5.4780e-01],\n",
       "         [ 3.5097e-01,  3.5097e-01,  1.2758e+00,  ...,  6.1137e-01,\n",
       "           1.0697e+00,  8.9852e-01],\n",
       "         [-1.3174e-01, -1.3174e-01,  6.3691e-01,  ...,  8.3698e-01,\n",
       "           6.2432e-01,  7.0721e-01]],\n",
       "\n",
       "        [[-4.0905e-01, -3.6601e-01, -2.6112e-01,  ..., -2.6112e-01,\n",
       "          -2.6112e-01, -2.6112e-01],\n",
       "         [ 5.7079e-01,  5.7079e-01,  5.5518e+00,  ...,  2.7111e+00,\n",
       "           1.9484e+00,  2.3191e+00],\n",
       "         [ 2.3033e-01,  2.3033e-01,  1.7780e+00,  ...,  4.8741e-01,\n",
       "           2.5841e+00,  2.5820e+00],\n",
       "         ...,\n",
       "         [-5.8912e-01, -5.8912e-01, -5.8912e-01,  ..., -5.8912e-01,\n",
       "          -5.8912e-01, -5.8912e-01],\n",
       "         [ 4.1194e-01,  4.1194e-01,  1.6997e-02,  ...,  1.7890e-01,\n",
       "           1.3199e-01, -2.0097e-02],\n",
       "         [-2.3821e-01, -2.3821e-01, -5.4397e-01,  ..., -7.3696e-01,\n",
       "          -1.0326e+00, -5.6723e-01]],\n",
       "\n",
       "        ...,\n",
       "\n",
       "        [[-5.8630e-01, -1.5896e-01, -8.4490e-02,  ..., -8.4490e-02,\n",
       "          -8.4490e-02, -8.4490e-02],\n",
       "         [-1.1744e-01, -1.1744e-01,  9.1992e+00,  ...,  3.1425e+00,\n",
       "          -8.1044e-01, -3.0405e+00],\n",
       "         [ 1.8705e-02,  1.8705e-02, -2.5366e+00,  ..., -9.3333e-01,\n",
       "          -4.8797e-01, -2.8301e-01],\n",
       "         ...,\n",
       "         [-6.1245e-01, -6.1245e-01, -6.1245e-01,  ..., -6.1245e-01,\n",
       "          -6.1245e-01, -6.1245e-01],\n",
       "         [ 3.3833e-01,  3.3833e-01,  8.3666e-01,  ...,  1.4025e+00,\n",
       "           6.3912e-01,  4.1051e-01],\n",
       "         [ 5.0751e-02,  5.0751e-02,  3.3183e-01,  ...,  3.1616e-01,\n",
       "          -2.4688e-01, -8.4655e-03]],\n",
       "\n",
       "        [[-7.1445e-01, -2.3028e-01, -9.0922e-02,  ..., -9.0922e-02,\n",
       "          -9.0922e-02, -9.0922e-02],\n",
       "         [-1.5213e-01, -1.5213e-01,  3.9955e+00,  ...,  1.1711e+00,\n",
       "           3.3565e+00,  9.3042e-01],\n",
       "         [-3.1652e-03, -3.1652e-03, -9.8295e+00,  ..., -2.8024e+00,\n",
       "          -2.1539e+00, -8.4987e-01],\n",
       "         ...,\n",
       "         [-4.9015e-01, -4.9015e-01, -4.9015e-01,  ..., -4.9015e-01,\n",
       "          -4.9015e-01, -4.9015e-01],\n",
       "         [ 4.3664e-01,  4.3664e-01,  6.4437e-01,  ...,  9.7022e-01,\n",
       "           1.0141e+00,  9.4767e-01],\n",
       "         [-3.6719e-01, -3.6719e-01,  2.2498e-02,  ...,  9.5855e-02,\n",
       "          -4.1047e-01,  1.7380e-01]],\n",
       "\n",
       "        [[-3.7874e-01, -2.2756e-01, -1.8445e-01,  ..., -1.8445e-01,\n",
       "          -1.8445e-01, -1.8445e-01],\n",
       "         [-4.0149e-01, -4.0149e-01,  7.4214e+00,  ..., -2.4007e+00,\n",
       "          -1.2093e+00,  3.6531e+00],\n",
       "         [ 1.5751e-01,  1.5751e-01, -1.5112e+00,  ..., -1.1390e+00,\n",
       "          -2.8969e-01,  1.3684e-01],\n",
       "         ...,\n",
       "         [-6.0157e-01, -6.0157e-01, -6.0157e-01,  ..., -6.0157e-01,\n",
       "          -6.0157e-01, -6.0157e-01],\n",
       "         [ 4.0438e-01,  4.0438e-01,  9.8950e-01,  ...,  6.3390e-01,\n",
       "           6.4339e-01, -2.4959e-01],\n",
       "         [-2.3925e-01, -2.3925e-01, -4.0416e-01,  ..., -1.6342e-01,\n",
       "          -4.0765e-01, -1.1907e-01]]], grad_fn=<AddBackward0>)"
      ]
     },
     "execution_count": 6,
     "metadata": {},
     "output_type": "execute_result"
    }
   ],
   "source": [
    "model(sample[\"input\"])"
   ]
  },
  {
   "cell_type": "code",
   "execution_count": 7,
   "metadata": {},
   "outputs": [
    {
     "data": {
      "text/plain": [
       "tensor(0.0984)"
      ]
     },
     "execution_count": 7,
     "metadata": {},
     "output_type": "execute_result"
    }
   ],
   "source": [
    "model.training_step(sample)"
   ]
  },
  {
   "cell_type": "code",
   "execution_count": 10,
   "metadata": {},
   "outputs": [],
   "source": [
    "import matplotlib.pyplot as plt"
   ]
  },
  {
   "cell_type": "code",
   "execution_count": 8,
   "metadata": {},
   "outputs": [
    {
     "data": {
      "text/plain": [
       "4949"
      ]
     },
     "execution_count": 8,
     "metadata": {},
     "output_type": "execute_result"
    }
   ],
   "source": [
    "len(dataloader)"
   ]
  },
  {
   "cell_type": "code",
   "execution_count": 18,
   "metadata": {},
   "outputs": [
    {
     "data": {
      "text/plain": [
       "<matplotlib.legend.Legend at 0x7f337c19a020>"
      ]
     },
     "execution_count": 18,
     "metadata": {},
     "output_type": "execute_result"
    },
    {
     "data": {
      "image/png": "[encoded data removed]",
      "text/plain": [
       "<Figure size 640x480 with 1 Axes>"
      ]
     },
     "metadata": {},
     "output_type": "display_data"
    }
   ],
   "source": [
    "samp = 2\n",
    "\n",
    "batch = next(iter(dataloader))\n",
    "sp_ = batch['target'][samp,:,6]\n",
    "in_ = batch['input'][samp,:,6]\n",
    "\n",
    "plt.plot(in_, label='dropped')\n",
    "plt.plot(sp_, label='original', linestyle=\"--\")\n",
    "plt.legend()"
   ]
  },
  {
   "cell_type": "code",
   "execution_count": null,
   "metadata": {},
   "outputs": [],
   "source": []
  }
 ],
 "metadata": {
  "kernelspec": {
   "display_name": "astrodino",
   "language": "python",
   "name": "python3"
  },
  "language_info": {
   "codemirror_mode": {
    "name": "ipython",
    "version": 3
   },
   "file_extension": ".py",
   "mimetype": "text/x-python",
   "name": "python",
   "nbconvert_exporter": "python",
   "pygments_lexer": "ipython3",
   "version": "3.10.13"
  }
 },
 "nbformat": 4,
 "nbformat_minor": 2
}
