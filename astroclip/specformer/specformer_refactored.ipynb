{
 "cells": [
  {
   "cell_type": "code",
   "execution_count": null,
   "metadata": {},
   "outputs": [],
   "source": [
    "import os\n",
    "\n",
    "os.chdir(\"../..\")"
   ]
  },
  {
   "cell_type": "code",
   "execution_count": null,
   "metadata": {},
   "outputs": [],
   "source": [
    "import astroclip\n",
    "from astroclip.specformer.data import AstroClipDataset\n",
    "from astroclip.specformer.preprocessing import SpectrumCollator\n",
    "from astroclip.specformer.model import SpecFormer\n",
    "\n",
    "from astroclip import format_with_env\n",
    "import torch\n",
    "import numpy as np"
   ]
  },
  {
   "cell_type": "code",
   "execution_count": null,
   "metadata": {},
   "outputs": [],
   "source": [
    "import datasets\n",
    "import numpy as np"
   ]
  },
  {
   "cell_type": "code",
   "execution_count": null,
   "metadata": {},
   "outputs": [],
   "source": [
    "DATASET_PATH = format_with_env(\"{ASTROCLIP_ROOT}/datasets/astroclip_file/\")\n",
    "collator = SpectrumCollator(num_chunks=6, chunk_width=50)\n",
    "dataset = AstroClipDataset(\n",
    "    path=DATASET_PATH,\n",
    "    columns=\"spectrum\",\n",
    "    batch_size=32,\n",
    "    num_workers=0,\n",
    "    collate_fn=collator,\n",
    ")"
   ]
  },
  {
   "cell_type": "code",
   "execution_count": null,
   "metadata": {},
   "outputs": [],
   "source": [
    "dataset.setup(None)\n",
    "dataloader = dataset.train_dataloader()\n",
    "sample = next(iter(dataloader))"
   ]
  },
  {
   "cell_type": "code",
   "execution_count": null,
   "metadata": {},
   "outputs": [],
   "source": [
    "sample[\"input\"].shape"
   ]
  },
  {
   "cell_type": "code",
   "execution_count": null,
   "metadata": {},
   "outputs": [],
   "source": [
    "model = SpecFormer(\n",
    "    input_dim=22,\n",
    "    embed_dim=768,\n",
    "    num_layers=6,\n",
    "    num_heads=6,\n",
    "    max_len=800,\n",
    "    dropout=0.0,\n",
    "    norm_first=False,\n",
    ")"
   ]
  },
  {
   "cell_type": "code",
   "execution_count": null,
   "metadata": {},
   "outputs": [],
   "source": [
    "dataloader.dataset[0][\"spectrum\"].shape"
   ]
  },
  {
   "cell_type": "code",
   "execution_count": null,
   "metadata": {},
   "outputs": [],
   "source": [
    "model.training_step(sample)"
   ]
  },
  {
   "cell_type": "code",
   "execution_count": null,
   "metadata": {},
   "outputs": [],
   "source": [
    "import matplotlib.pyplot as plt\n",
    "\n",
    "samp = 2\n",
    "\n",
    "batch = next(iter(dataloader))\n",
    "sp_ = batch[\"target\"][samp, :, 6]\n",
    "in_ = batch[\"input\"][samp, :, 6]\n",
    "out_ = model(batch[\"input\"])[samp, :, 6].detach()\n",
    "plt.plot(sp_, label=\"original\")\n",
    "plt.plot(in_, label=\"dropped\", linestyle=\"--\", alpha=0.5)\n",
    "plt.plot(out_, label=\"output\")\n",
    "\n",
    "plt.legend()"
   ]
  },
  {
   "cell_type": "code",
   "execution_count": null,
   "metadata": {},
   "outputs": [],
   "source": []
  }
 ],
 "metadata": {
  "kernelspec": {
   "display_name": "astrodino",
   "language": "python",
   "name": "python3"
  },
  "language_info": {
   "codemirror_mode": {
    "name": "ipython",
    "version": 3
   },
   "file_extension": ".py",
   "mimetype": "text/x-python",
   "name": "python",
   "nbconvert_exporter": "python",
   "pygments_lexer": "ipython3",
   "version": "3.10.13"
  }
 },
 "nbformat": 4,
 "nbformat_minor": 2
}
