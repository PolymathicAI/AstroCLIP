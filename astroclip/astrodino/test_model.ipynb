{
 "cells": [
  {
   "cell_type": "code",
   "execution_count": null,
   "id": "7faecc29-03b9-4834-91f2-457defdd7708",
   "metadata": {},
   "outputs": [],
   "source": [
    "import math\n",
    "import itertools\n",
    "from functools import partial\n",
    "\n",
    "import torch\n",
    "import torch.nn.functional as F"
   ]
  },
  {
   "cell_type": "code",
   "execution_count": null,
   "id": "f503cc28-58aa-4c53-90d7-91b46ea85f98",
   "metadata": {},
   "outputs": [],
   "source": [
    "import os\n",
    "import sys\n",
    "\n",
    "sys.path.insert(0, os.path.abspath(\"../dinov2/\"))"
   ]
  },
  {
   "cell_type": "code",
   "execution_count": null,
   "id": "f0142b28-3be1-45f7-bc67-3bfa2427060f",
   "metadata": {},
   "outputs": [],
   "source": [
    "from dinov2.utils.config import setup\n",
    "from dinov2.models import build_model_from_cfg\n",
    "from dinov2.fsdp import FSDPCheckpointer\n",
    "from dinov2.train.ssl_meta_arch import SSLMetaArch\n",
    "from dinov2.eval.setup import setup_and_build_model"
   ]
  },
  {
   "cell_type": "code",
   "execution_count": null,
   "id": "958349d3-27fb-4641-adb0-dbe101e68830",
   "metadata": {},
   "outputs": [],
   "source": [
    "class config:\n",
    "    output_dir = (\n",
    "        \"/mnt/ceph/users/polymathic/astroclip/outputs/astroclip_image/u6lwxdfu/\"\n",
    "    )\n",
    "    config_file = \"./config.yaml\"\n",
    "    pretrained_weights = \"/mnt/ceph/users/polymathic/astroclip/outputs/astroclip_image/u6lwxdfu/eval/training_99999/teacher_checkpoint.pth\"\n",
    "    opts = []"
   ]
  },
  {
   "cell_type": "code",
   "execution_count": null,
   "id": "f6291e4b-f838-42b7-aa21-dbb3866652b0",
   "metadata": {},
   "outputs": [],
   "source": [
    "model, dtype = setup_and_build_model(config())"
   ]
  },
  {
   "cell_type": "code",
   "execution_count": null,
   "id": "0f15a611-7d71-4714-81d8-17fbbcbd65c2",
   "metadata": {},
   "outputs": [],
   "source": [
    "from data.augmentations import ToRGB"
   ]
  },
  {
   "cell_type": "code",
   "execution_count": null,
   "id": "64e5a534-df6c-4e2f-b5dc-a45225490c71",
   "metadata": {},
   "outputs": [],
   "source": [
    "# We should also look at how the images from the dataset look like\n",
    "\n",
    "sys.path.insert(0, os.path.abspath(\"../\"))\n",
    "\n",
    "from astrodino.data.loaders import make_dataset"
   ]
  },
  {
   "cell_type": "code",
   "execution_count": null,
   "id": "deaa8fa7-320b-46e8-94c9-c7ee483faa0d",
   "metadata": {},
   "outputs": [],
   "source": [
    "from torchvision.transforms import CenterCrop, Compose\n",
    "\n",
    "test_dataset = make_dataset(\n",
    "    dataset_str='LegacySurvey:split=test:root=/mnt/ceph/users/polymathic/external_data/astro/DECALS_Stein_et_al/:extra=\"\"',\n",
    "    transform=Compose([CenterCrop(144), ToRGB()]),\n",
    ")"
   ]
  },
  {
   "cell_type": "code",
   "execution_count": null,
   "id": "01eeb261-67fa-416e-9ec6-df76b565fd0c",
   "metadata": {},
   "outputs": [],
   "source": [
    "from tqdm import tqdm\n",
    "import numpy as np\n",
    "\n",
    "embeddings = []\n",
    "for i in tqdm(range(10_000 // 64)):\n",
    "    images = torch.tensor([test_dataset[j + i * 64][0].T for j in range(64)]).cuda()\n",
    "    embeddings.append(model(images).detach().cpu())\n",
    "    del images\n",
    "embeddings = np.concatenate(embeddings)"
   ]
  },
  {
   "cell_type": "code",
   "execution_count": null,
   "id": "059e35ed",
   "metadata": {},
   "outputs": [],
   "source": [
    "embeddings = np.concatenate(embeddings)"
   ]
  },
  {
   "cell_type": "code",
   "execution_count": null,
   "id": "dcf3c94a-74e2-4fe3-aa41-d6854fb0bc58",
   "metadata": {},
   "outputs": [],
   "source": [
    "%pylab inline\n",
    "\n",
    "figure(figsize=[20, 20])\n",
    "for i in range(8):\n",
    "    for j in range(8):\n",
    "        subplot(8, 8, i * 8 + j + 1)\n",
    "        imshow((test_dataset[(i + 400) * 8 + j][0]))\n",
    "        title(f\"{(i+400)*8+j}\", fontsize=10)\n",
    "        axis(\"off\")\n",
    "\n",
    "plt.subplots_adjust(wspace=0.01, hspace=0.01)"
   ]
  },
  {
   "cell_type": "code",
   "execution_count": null,
   "id": "c0ac3156",
   "metadata": {},
   "outputs": [],
   "source": [
    "test_im = np.array(test_dataset[844][0]).T\n",
    "test_embed = model(torch.from_numpy(test_im[np.newaxis]).to(\"cuda\")).detach().cpu()\n",
    "cos = torch.nn.CosineSimilarity(dim=1, eps=1e-6)\n",
    "s = cos(test_embed.reshape(1, -1), torch.from_numpy(embeddings)).cpu().numpy()\n",
    "inds = argsort(s)[::-1]\n",
    "figure(figsize=[20, 20])\n",
    "for i in range(8):\n",
    "    for j in range(8):\n",
    "        subplot(8, 8, i * 8 + j + 1)\n",
    "        imshow(clip((test_dataset[inds[i * 8 + j]][0]), 0, 1))\n",
    "        axis(\"off\")\n",
    "plt.subplots_adjust(wspace=0.01, hspace=0.01)"
   ]
  },
  {
   "cell_type": "code",
   "execution_count": null,
   "id": "397236fb",
   "metadata": {},
   "outputs": [],
   "source": [
    "test_im = np.array(test_dataset[800][0]).T\n",
    "test_embed = model(torch.from_numpy(test_im[np.newaxis]).to(\"cuda\")).detach().cpu()\n",
    "cos = torch.nn.CosineSimilarity(dim=1, eps=1e-6)\n",
    "s = cos(test_embed.reshape(1, -1), torch.from_numpy(embeddings)).cpu().numpy()\n",
    "inds = argsort(s)[::-1]\n",
    "figure(figsize=[20, 20])\n",
    "for i in range(8):\n",
    "    for j in range(8):\n",
    "        subplot(8, 8, i * 8 + j + 1)\n",
    "        imshow(clip((test_dataset[inds[i * 8 + j]][0]), 0, 1))\n",
    "        axis(\"off\")\n",
    "plt.subplots_adjust(wspace=0.01, hspace=0.01)"
   ]
  },
  {
   "cell_type": "code",
   "execution_count": null,
   "id": "0fb500f2",
   "metadata": {},
   "outputs": [],
   "source": [
    "test_im = np.array(test_dataset[818][0]).T\n",
    "test_embed = model(torch.from_numpy(test_im[np.newaxis]).to(\"cuda\")).detach().cpu()\n",
    "cos = torch.nn.CosineSimilarity(dim=1, eps=1e-6)\n",
    "s = cos(test_embed.reshape(1, -1), torch.from_numpy(embeddings)).cpu().numpy()\n",
    "inds = argsort(s)[::-1]\n",
    "figure(figsize=[20, 20])\n",
    "for i in range(8):\n",
    "    for j in range(8):\n",
    "        subplot(8, 8, i * 8 + j + 1)\n",
    "        imshow(clip((test_dataset[inds[i * 8 + j]][0]), 0, 1))\n",
    "        axis(\"off\")\n",
    "plt.subplots_adjust(wspace=0.01, hspace=0.01)"
   ]
  },
  {
   "cell_type": "code",
   "execution_count": null,
   "id": "cdad1486-0ef9-4ad3-ac7d-976e222f2a6a",
   "metadata": {},
   "outputs": [],
   "source": [
    "from astropy.io import fits\n",
    "\n",
    "dr2_rgb = ToRGB()\n",
    "\n",
    "d = fits.getdata(\"test_image.fits\")\n",
    "test_im = dr2_rgb(d[:, 56:-56, 56:-56])\n",
    "imshow(test_im)"
   ]
  },
  {
   "cell_type": "code",
   "execution_count": null,
   "id": "8a2e3b91",
   "metadata": {},
   "outputs": [],
   "source": [
    "test_embed = (\n",
    "    model(torch.from_numpy(test_im.T[np.newaxis].astype(\"float32\")).to(\"cuda\"))\n",
    "    .detach()\n",
    "    .cpu()\n",
    ")\n",
    "cos = torch.nn.CosineSimilarity(dim=1, eps=1e-6)\n",
    "s = cos(test_embed.reshape(1, -1), torch.from_numpy(embeddings)).cpu().numpy()\n",
    "inds = argsort(s)[::-1]\n",
    "figure(figsize=[20, 20])\n",
    "for i in range(8):\n",
    "    for j in range(8):\n",
    "        subplot(8, 8, i * 8 + j + 1)\n",
    "        imshow((test_dataset[inds[i * 8 + j]][0]))\n",
    "        axis(\"off\")\n",
    "plt.subplots_adjust(wspace=0.01, hspace=0.01)"
   ]
  },
  {
   "cell_type": "code",
   "execution_count": null,
   "id": "17050af1",
   "metadata": {},
   "outputs": [],
   "source": []
  }
 ],
 "metadata": {
  "kernelspec": {
   "display_name": "toto",
   "language": "python",
   "name": "toto"
  }
 },
 "nbformat": 4,
 "nbformat_minor": 5
}
