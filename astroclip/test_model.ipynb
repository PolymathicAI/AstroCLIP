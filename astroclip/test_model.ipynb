{
 "cells": [
  {
   "cell_type": "code",
   "execution_count": null,
   "metadata": {},
   "outputs": [],
   "source": [
    "import os, sys\n",
    "\n",
    "sys.path.append(\"../..\")\n",
    "\n",
    "from astroclip.models.astroclip import AstroClipModel\n",
    "\n",
    "ASTROCLIP_ROOT = \"/mnt/ceph/users/polymathic/astroclip\"\n",
    "\n",
    "file_path = (\n",
    "    f\"{ASTROCLIP_ROOT}/outputs/astroclip-alignment/gzxtxj9t/checkpoints/last.ckpt\"\n",
    ")\n",
    "model = AstroClipModel.load_from_checkpoint(file_path)"
   ]
  },
  {
   "cell_type": "code",
   "execution_count": null,
   "metadata": {},
   "outputs": [],
   "source": [
    "import torch\n",
    "\n",
    "torch.load(file_path, map_location=torch.device(\"cuda:0\"))"
   ]
  },
  {
   "cell_type": "code",
   "execution_count": null,
   "metadata": {},
   "outputs": [],
   "source": [
    "from astroclip.data.datamodule import AstroClipDataloader, AstroClipCollator\n",
    "\n",
    "loader = AstroClipDataloader(\n",
    "    path=\"/mnt/ceph/users/polymathic/astroclip/datasets/astroclip_file/\",\n",
    "    batch_size=2,\n",
    "    num_workers=0,\n",
    "    collate_fn=AstroClipCollator(),\n",
    ")\n",
    "loader.setup(\"fit\")\n",
    "val_loader = loader.val_dataloader()\n",
    "\n",
    "# load to cuda\n",
    "dummy = model.transfer_batch_to_device(next(iter(val_loader)), model.device, None)"
   ]
  },
  {
   "cell_type": "code",
   "execution_count": null,
   "metadata": {},
   "outputs": [],
   "source": [
    "model.training_step(dummy, 0)"
   ]
  },
  {
   "cell_type": "code",
   "execution_count": null,
   "metadata": {},
   "outputs": [],
   "source": [
    "model(dummy[\"image\"], input_type=\"image\").shape"
   ]
  },
  {
   "cell_type": "code",
   "execution_count": null,
   "metadata": {},
   "outputs": [],
   "source": []
  },
  {
   "cell_type": "code",
   "execution_count": null,
   "metadata": {},
   "outputs": [],
   "source": []
  }
 ],
 "metadata": {
  "kernelspec": {
   "display_name": "toto",
   "language": "python",
   "name": "toto"
  },
  "language_info": {
   "codemirror_mode": {
    "name": "ipython",
    "version": 3
   },
   "file_extension": ".py",
   "mimetype": "text/x-python",
   "name": "python",
   "nbconvert_exporter": "python",
   "pygments_lexer": "ipython3",
   "version": "3.10.10"
  }
 },
 "nbformat": 4,
 "nbformat_minor": 2
}
