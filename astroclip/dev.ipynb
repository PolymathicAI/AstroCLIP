{
 "cells": [
  {
   "cell_type": "code",
   "execution_count": null,
   "metadata": {},
   "outputs": [],
   "source": [
    "import os, sys\n",
    "\n",
    "sys.path.append(\"../..\")\n",
    "\n",
    "from astroclip.preprocessing import AstroClipCollator\n",
    "from astroclip.data import AstroClipDataloader"
   ]
  },
  {
   "cell_type": "code",
   "execution_count": null,
   "metadata": {},
   "outputs": [],
   "source": [
    "loader = AstroClipDataloader(\n",
    "    \"/mnt/ceph/users/polymathic/mmoma/datasets/astroclip_file/\",\n",
    "    batch_size=10,\n",
    "    columns=[\"spectrum\", \"image\"],\n",
    "    collate_fn=AstroClipCollator(),\n",
    ")\n",
    "\n",
    "loader.setup(\"fit\")"
   ]
  },
  {
   "cell_type": "code",
   "execution_count": null,
   "metadata": {},
   "outputs": [],
   "source": [
    "dummy = next(iter(loader.train_dataloader()))\n",
    "dummy = loader.transfer_batch_to_device(dummy, \"cuda\", None)"
   ]
  },
  {
   "cell_type": "code",
   "execution_count": null,
   "metadata": {},
   "outputs": [],
   "source": [
    "dummy[\"spectrum\"].shape"
   ]
  },
  {
   "cell_type": "code",
   "execution_count": null,
   "metadata": {},
   "outputs": [],
   "source": [
    "%pylab inline\n",
    "\n",
    "imshow(dummy[\"image\"][0].detach().cpu().permute(1, 2, 0))"
   ]
  },
  {
   "cell_type": "code",
   "execution_count": null,
   "metadata": {},
   "outputs": [],
   "source": [
    "from astroclip.models.specformer import SpecFormer\n",
    "\n",
    "model = SpecFormer(\n",
    "    input_dim=22,\n",
    "    embed_dim=768,\n",
    "    num_layers=6,\n",
    "    num_heads=6,\n",
    "    max_len=800,\n",
    "    dropout=0.0,\n",
    "    norm_first=False,\n",
    ")\n",
    "\n",
    "model.cuda()\n",
    "model(dummy[\"spectrum\"]).shape"
   ]
  },
  {
   "cell_type": "code",
   "execution_count": null,
   "metadata": {},
   "outputs": [],
   "source": [
    "model.training_step(dummy)"
   ]
  },
  {
   "cell_type": "markdown",
   "metadata": {},
   "source": [
    "# EXTRa\n"
   ]
  },
  {
   "cell_type": "code",
   "execution_count": null,
   "metadata": {},
   "outputs": [],
   "source": [
    "from astroclip.astroclip.modules.image import ImageModule\n",
    "\n",
    "imagemodule = ImageModule(\n",
    "    config=\"/mnt/home/lparker/Documents/AstroFoundationModel/AstroDino_legacy/astrodino/configs/ssl_default_config.yaml\",\n",
    "    model_weights=\"/mnt/home/lparker/ceph/astrodino/vitl12_simplified_better_wd/training_199999/teacher_checkpoint.pth\",\n",
    "    save_directory=\"/mnt/home/lparker/ceph/dino_training\",\n",
    ")"
   ]
  },
  {
   "cell_type": "code",
   "execution_count": null,
   "metadata": {},
   "outputs": [],
   "source": [
    "imagemodule.cuda()\n",
    "\n",
    "imagemodule.forward(dummy[\"image\"]).shape"
   ]
  },
  {
   "cell_type": "code",
   "execution_count": null,
   "metadata": {},
   "outputs": [],
   "source": [
    "from astroclip.astroclip.model import AstroClipModel"
   ]
  },
  {
   "cell_type": "code",
   "execution_count": null,
   "metadata": {},
   "outputs": [],
   "source": [
    "astroclip = AstroClipModel(\n",
    "    image_encoder=imagemodule,\n",
    "    spectrum_encoder=spectrummodule,\n",
    "    temperature=15.5,\n",
    ")\n",
    "\n",
    "astroclip.cuda()\n",
    "\n",
    "astroclip.training_step(dummy, 0)"
   ]
  },
  {
   "cell_type": "code",
   "execution_count": null,
   "metadata": {},
   "outputs": [],
   "source": [
    "import lightning as L\n",
    "\n",
    "trainer = L.Trainer(\n",
    "    max_epochs=1,\n",
    ")"
   ]
  },
  {
   "cell_type": "code",
   "execution_count": null,
   "metadata": {},
   "outputs": [],
   "source": [
    "trainer.fit(astroclip, loader)"
   ]
  }
 ],
 "metadata": {
  "kernelspec": {
   "display_name": "dino",
   "language": "python",
   "name": "python3"
  },
  "language_info": {
   "codemirror_mode": {
    "name": "ipython",
    "version": 3
   },
   "file_extension": ".py",
   "mimetype": "text/x-python",
   "name": "python",
   "nbconvert_exporter": "python",
   "pygments_lexer": "ipython3",
   "version": "3.10.10"
  }
 },
 "nbformat": 4,
 "nbformat_minor": 2
}
