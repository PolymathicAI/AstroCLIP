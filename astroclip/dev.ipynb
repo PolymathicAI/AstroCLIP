{
 "cells": [
  {
   "cell_type": "code",
   "execution_count": null,
   "metadata": {},
   "outputs": [],
   "source": [
    "import os, sys\n",
    "\n",
    "sys.path.append(\"../..\")\n",
    "\n",
    "from astroclip.astrodino.data.loaders import make_dataset"
   ]
  },
  {
   "cell_type": "code",
   "execution_count": null,
   "metadata": {},
   "outputs": [],
   "source": [
    "from astroclip.astrodino.data.augmentations import DataAugmentationAstroDINO, ToRGB\n",
    "\n",
    "augmentation = DataAugmentationAstroDINO(\n",
    "    global_crops_scale=(0.8, 1.0),\n",
    "    local_crops_scale=(0.4, 0.6),\n",
    "    global_crops_size=144,\n",
    "    local_crops_size=60,\n",
    "    local_crops_number=8,\n",
    ")\n",
    "\n",
    "test_dataset = make_dataset(\n",
    "    dataset_str='LegacySurvey:split=test:root=/mnt/ceph/users/polymathic/external_data/astro/DECALS_Stein_et_al/:extra=\"\"',\n",
    "    transform=augmentation,\n",
    ")\n",
    "\n",
    "iterable_dset = iter(test_dataset)"
   ]
  },
  {
   "cell_type": "code",
   "execution_count": null,
   "metadata": {},
   "outputs": [],
   "source": [
    "%pylab inline\n",
    "\n",
    "img = next(iterable_dset)[0]\n",
    "torgb = ToRGB()\n",
    "\n",
    "imshow(torgb(np.array(img).T))"
   ]
  },
  {
   "cell_type": "code",
   "execution_count": null,
   "metadata": {},
   "outputs": [],
   "source": [
    "imgs = augmentation(img)"
   ]
  },
  {
   "cell_type": "code",
   "execution_count": null,
   "metadata": {},
   "outputs": [],
   "source": [
    "# plot all global_crops\n",
    "\n",
    "fig, axs = plt.subplots(1, 2, figsize=(20, 10))\n",
    "\n",
    "for i in range(2):\n",
    "    axs[i].imshow(imgs[\"global_crops\"][i].T)"
   ]
  },
  {
   "cell_type": "code",
   "execution_count": null,
   "metadata": {},
   "outputs": [],
   "source": [
    "# plot all local_crops\n",
    "\n",
    "fig, axs = plt.subplots(1, 8, figsize=(20, 10))\n",
    "\n",
    "for i in range(8):\n",
    "    axs[i].imshow(imgs[\"local_crops\"][i].T)"
   ]
  },
  {
   "cell_type": "code",
   "execution_count": null,
   "metadata": {},
   "outputs": [],
   "source": [
    "test_dataset = make_dataset(\n",
    "    dataset_str='LegacySurvey:split=test:root=/mnt/ceph/users/polymathic/external_data/astro/DECALS_Stein_et_al/:extra=\"\"',\n",
    "    transform=augmentation,\n",
    ")"
   ]
  }
 ],
 "metadata": {
  "kernelspec": {
   "display_name": "toto",
   "language": "python",
   "name": "python3"
  },
  "language_info": {
   "codemirror_mode": {
    "name": "ipython",
    "version": 3
   },
   "file_extension": ".py",
   "mimetype": "text/x-python",
   "name": "python",
   "nbconvert_exporter": "python",
   "pygments_lexer": "ipython3",
   "version": "3.10.10"
  }
 },
 "nbformat": 4,
 "nbformat_minor": 2
}
