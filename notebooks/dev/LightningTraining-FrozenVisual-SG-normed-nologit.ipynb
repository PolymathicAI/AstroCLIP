{
 "cells": [
  {
   "cell_type": "code",
   "execution_count": 5,
   "id": "b61b1867-0c7d-4fea-b4d9-bf8da6f60b30",
   "metadata": {},
   "outputs": [
    {
     "name": "stdout",
     "output_type": "stream",
     "text": [
      "%pylab is deprecated, use %matplotlib inline and import the required libraries.\n",
      "Populating the interactive namespace from numpy and matplotlib\n"
     ]
    }
   ],
   "source": [
    "%pylab inline"
   ]
  },
  {
   "cell_type": "code",
   "execution_count": 6,
   "id": "a9b0b0ac-ff7d-4b10-9f47-0fb5756cf708",
   "metadata": {},
   "outputs": [],
   "source": [
    "import torch, torch.nn as nn, torch.nn.functional as F\n",
    "import torchvision.models as models\n",
    "import lightning as L\n",
    "from datasets import load_dataset\n",
    "from pytorch_lightning.loggers import WandbLogger"
   ]
  },
  {
   "cell_type": "code",
   "execution_count": 7,
   "id": "d3e31f69-9c2e-4323-8d4f-c72f05109cf1",
   "metadata": {},
   "outputs": [],
   "source": [
    "from torchvision.transforms import Compose, RandomVerticalFlip, RandomHorizontalFlip, RandomRotation, RandomErasing, ToTensor, CenterCrop, ToPILImage"
   ]
  },
  {
   "cell_type": "code",
   "execution_count": 8,
   "id": "4eb05028-39f5-4137-8d38-26640b15e1b8",
   "metadata": {},
   "outputs": [],
   "source": [
    "dataset = load_dataset('../../astroclip/datasets/legacy_survey.py', \n",
    "                       cache_dir='/tmp'\n",
    "                      )\n",
    "dataset.set_format(type='torch', columns=['image', 'spectrum'])\n",
    "\n",
    "image_transforms = Compose([\n",
    "        # ToRGB(),\n",
    "        # ToTensor(),\n",
    "        RandomVerticalFlip(),\n",
    "        RandomHorizontalFlip(),\n",
    "        CenterCrop(96),\n",
    "])"
   ]
  },
  {
   "cell_type": "code",
   "execution_count": 9,
   "id": "f3d7e558-3f8f-4325-9f74-633540e365dd",
   "metadata": {},
   "outputs": [
    {
     "name": "stderr",
     "output_type": "stream",
     "text": [
      "/tmp/ipykernel_743911/748620904.py:1: UserWarning: The use of `x.T` on tensors of dimension other than 2 to reverse their shape is deprecated and it will throw an error in a future release. Consider `x.mT` to transpose batches of matrices or `x.permute(*torch.arange(x.ndim - 1, -1, -1))` to reverse the dimensions of a tensor. (Triggered internally at /opt/conda/conda-bld/pytorch_1694763734178/work/aten/src/ATen/native/TensorShape.cpp:3637.)\n",
      "  imshow(image_transforms(dataset['train'][0]['image'].T).T)\n",
      "Clipping input data to the valid range for imshow with RGB data ([0..1] for floats or [0..255] for integers).\n"
     ]
    },
    {
     "data": {
      "text/plain": [
       "<matplotlib.image.AxesImage at 0x7f68071f47c0>"
      ]
     },
     "execution_count": 9,
     "metadata": {},
     "output_type": "execute_result"
    },
    {
     "data": {
      "image/png": "[encoded data removed]",
      "text/plain": [
       "<Figure size 640x480 with 1 Axes>"
      ]
     },
     "metadata": {},
     "output_type": "display_data"
    }
   ],
   "source": [
    "imshow(image_transforms(dataset['train'][0]['image'].T).T)"
   ]
  },
  {
   "cell_type": "code",
   "execution_count": 10,
   "id": "7275fea6-4d95-40be-ac96-2f2e5bc45122",
   "metadata": {},
   "outputs": [],
   "source": [
    "# Create the dataloaders\n",
    "train_dataloader = torch.utils.data.DataLoader(dataset['train'], batch_size=512, shuffle=True, num_workers=8, drop_last=True)\n",
    "val_dataloader = torch.utils.data.DataLoader(dataset['test'], batch_size=512, shuffle=False, num_workers=8, drop_last=True)"
   ]
  },
  {
   "cell_type": "markdown",
   "id": "e4ecc059-87a9-41d6-9be4-271626b095d7",
   "metadata": {},
   "source": [
    "## Test George's embedding"
   ]
  },
  {
   "cell_type": "code",
   "execution_count": 14,
   "id": "011b69a4-30b9-4f36-aab6-af9d15e06990",
   "metadata": {},
   "outputs": [
    {
     "name": "stderr",
     "output_type": "stream",
     "text": [
      "/mnt/home/sgolkar/anaconda3/envs/fillm/lib/python3.9/site-packages/pl_bolts/__init__.py:11: FutureWarning: In the future `np.object` will be defined as the corresponding NumPy scalar.\n",
      "  if not hasattr(numpy, tp_name):\n",
      "/mnt/home/sgolkar/anaconda3/envs/fillm/lib/python3.9/site-packages/pl_bolts/__init__.py:11: FutureWarning: In the future `np.bool` will be defined as the corresponding NumPy scalar.\n",
      "  if not hasattr(numpy, tp_name):\n",
      "/mnt/home/sgolkar/anaconda3/envs/fillm/lib/python3.9/site-packages/pl_bolts/models/self_supervised/amdim/amdim_module.py:34: UnderReviewWarning: The feature generate_power_seq is currently marked under review. The compatibility with other Lightning projects is not guaranteed and API may change at any time. The API and functionality may change without warning in future releases. More details: https://lightning-bolts.readthedocs.io/en/latest/stability.html\n",
      "  \"lr_options\": generate_power_seq(LEARNING_RATE_CIFAR, 11),\n",
      "/mnt/home/sgolkar/anaconda3/envs/fillm/lib/python3.9/site-packages/pl_bolts/models/self_supervised/amdim/amdim_module.py:92: UnderReviewWarning: The feature FeatureMapContrastiveTask is currently marked under review. The compatibility with other Lightning projects is not guaranteed and API may change at any time. The API and functionality may change without warning in future releases. More details: https://lightning-bolts.readthedocs.io/en/latest/stability.html\n",
      "  contrastive_task: Union[FeatureMapContrastiveTask] = FeatureMapContrastiveTask(\"01, 02, 11\"),\n",
      "/mnt/home/sgolkar/anaconda3/envs/fillm/lib/python3.9/site-packages/pl_bolts/losses/self_supervised_learning.py:228: UnderReviewWarning: The feature AmdimNCELoss is currently marked under review. The compatibility with other Lightning projects is not guaranteed and API may change at any time. The API and functionality may change without warning in future releases. More details: https://lightning-bolts.readthedocs.io/en/latest/stability.html\n",
      "  self.nce_loss = AmdimNCELoss(tclip)\n",
      "Lightning automatically upgraded your loaded checkpoint from v1.6.2 to v1.9.5. To apply the upgrade to your files permanently, run `python -m pytorch_lightning.utilities.upgrade_checkpoint --file ../../../../../../ceph/users/flanusse/resnet50.ckpt`\n",
      "/mnt/home/sgolkar/anaconda3/envs/fillm/lib/python3.9/site-packages/pytorch_lightning/core/saving.py:234: UnderReviewWarning: The feature Moco_v2 is currently marked under review. The compatibility with other Lightning projects is not guaranteed and API may change at any time. The API and functionality may change without warning in future releases. More details: https://lightning-bolts.readthedocs.io/en/latest/stability.html\n",
      "  obj = cls(**_cls_kwargs)\n"
     ]
    }
   ],
   "source": [
    "class OutputExtractor(L.LightningModule):\n",
    "    \"\"\"\n",
    "    Pass data through network to extract model outputs\n",
    "    \"\"\"\n",
    "    def __init__(\n",
    "        self,\n",
    "        backbone: torch.nn.Module,\n",
    "    ):    \n",
    "        super(OutputExtractor, self).__init__()\n",
    "\n",
    "        # pass\n",
    "        self.backbone = backbone\n",
    "        self.backbone.eval()\n",
    "\n",
    "    def forward(self, batch):\n",
    "        \n",
    "        x, _ = batch\n",
    "        \n",
    "        z_emb = self.backbone(x)\n",
    "       \n",
    "        return z_emb\n",
    "    \n",
    "    def predict(self, batch, batch_idx: int, dataloader_idx: int=None):\n",
    "        return self(batch)\n",
    "\n",
    "\n",
    "from pl_bolts.models.self_supervised import Moco_v2\n",
    "\n",
    "moco_model = Moco_v2.load_from_checkpoint(\n",
    "                    checkpoint_path='/mnt/ceph/users/flanusse/resnet50.ckpt'\n",
    "            )\n",
    "\n",
    "# extract encoder_q from Moco_v2 model\n",
    "backbone = moco_model.encoder_q\n",
    "\n",
    "model = OutputExtractor(backbone).to('cuda')"
   ]
  },
  {
   "cell_type": "code",
   "execution_count": 15,
   "id": "902362af-9b4e-407b-8cf4-32c433b28b94",
   "metadata": {},
   "outputs": [
    {
     "name": "stdout",
     "output_type": "stream",
     "text": [
      "Seqformer(\n",
      "  (data_embed): Linear(in_features=22, out_features=768, bias=True)\n",
      "  (position_embed): Embedding(800, 768)\n",
      "  (dropout): Dropout(p=0.0, inplace=False)\n",
      "  (blocks): ModuleList(\n",
      "    (0-5): 6 x TransformerBlock(\n",
      "      (layernorm1): LayerNorm()\n",
      "      (attention): SelfAttention(\n",
      "        (attention): Linear(in_features=768, out_features=2304, bias=True)\n",
      "        (projection): Linear(in_features=768, out_features=768, bias=True)\n",
      "        (attention_dropout): Dropout(p=0.0, inplace=False)\n",
      "        (residual_dropout): Dropout(p=0.0, inplace=False)\n",
      "      )\n",
      "      (layernorm2): LayerNorm()\n",
      "      (mlp): MLP(\n",
      "        (activation): GELU(approximate='none')\n",
      "        (encoder): Linear(in_features=768, out_features=3072, bias=True)\n",
      "        (decoder): Linear(in_features=3072, out_features=768, bias=True)\n",
      "      )\n",
      "    )\n",
      "  )\n",
      "  (final_layernorm): LayerNorm()\n",
      "  (head): Linear(in_features=768, out_features=22, bias=True)\n",
      ")\n"
     ]
    }
   ],
   "source": [
    "# loading the ssl spectrum model. need to be on seqformer branch of fillm\n",
    "\n",
    "from fillm.run.model import *\n",
    "\n",
    "def load_model_from_ckpt(ckpt_path: str):\n",
    "    \"\"\"\n",
    "    Load a model from a checkpoint.\n",
    "    \"\"\"\n",
    "    if Path(ckpt_path).is_dir():\n",
    "        ckpt_path = Path(ckpt_path) / \"ckpt.pt\"\n",
    "\n",
    "    chkpt = torch.load(ckpt_path)\n",
    "    config = chkpt[\"config\"]\n",
    "    state_dict = chkpt[\"model\"]\n",
    "    model_name = config[\"model\"]['kind']\n",
    "    model_keys = get_model_keys(model_name)\n",
    "    # config['log_encoding']=False\n",
    "    # config['log_decoding']=False\n",
    "    # config['only_pred_masked']=True\n",
    "    # config['first_layer_norm']=True\n",
    "    # config['mlp_layer_norm']=True\n",
    "    \n",
    "    model_args = {k: config['model'][k] for k in model_keys}\n",
    "\n",
    "    model_ctr, config_cls = model_registry[model_name]\n",
    "    model_config = config_cls(**model_args)\n",
    "    model_ = model_ctr(model_config)\n",
    "    model_.load_state_dict(state_dict)\n",
    "\n",
    "    return {\"model\": model_, \"config\": config}\n",
    "\n",
    "model_path = \"/mnt/home/sgolkar/ceph/saves/fillm/run-seqformer-2708117\"\n",
    "out = load_model_from_ckpt(model_path)\n",
    "\n",
    "config = out['config']\n",
    "spec_model = out['model'].cpu()\n",
    "spec_model.eval()\n",
    "\n",
    "print(spec_model)\n"
   ]
  },
  {
   "cell_type": "code",
   "execution_count": 16,
   "id": "16510c94",
   "metadata": {},
   "outputs": [],
   "source": [
    "# Modifying the forward to output all the embeddings.\n",
    "\n",
    "import torch.nn.functional as F\n",
    "\n",
    "def forward(\n",
    "    self, x: torch.Tensor, y: Optional[torch.Tensor] = None\n",
    ") -> Tuple[torch.Tensor, torch.Tensor]:\n",
    "    device = x.device\n",
    "    t = x.shape[1]\n",
    "\n",
    "    # find the mask locations\n",
    "    locs = x != y\n",
    "\n",
    "    if t > self.config.block_size:\n",
    "        raise ValueError(\n",
    "            f\"Cannot forward sequence of length {t}, \"\n",
    "            f\"block size is only {self.config.block_size}\"\n",
    "        )\n",
    "    pos = torch.arange(0, t, dtype=torch.long, device=device)  # shape (t)\n",
    "\n",
    "    # forward the GPT model itself\n",
    "    data_emb = self.data_embed(x)  # to shape (b, t, embedding_dim)\n",
    "    pos_emb = self.position_embed(pos)  # to shape (t, embedding_dim)\n",
    "\n",
    "    x = self.dropout(data_emb + pos_emb)\n",
    "    embeddings = []\n",
    "    for block in self.blocks:\n",
    "        x = block(x)\n",
    "        embeddings.append(x.detach().clone())\n",
    "    x = self.final_layernorm(x)\n",
    "\n",
    "    preds = self.head(x)\n",
    "    if y is not None:\n",
    "        # if we are given some desired targets also calculate the loss\n",
    "        locs = locs.type_as(preds)\n",
    "        loss = F.mse_loss(preds * locs, y * locs, reduction=\"mean\") / locs.mean()\n",
    "    else:\n",
    "        loss = None\n",
    "\n",
    "    return {\"preds\": preds, \"loss\": loss, \"embeddings\": embeddings}\n",
    "\n",
    "\n",
    "spec_model.forward = forward.__get__(spec_model, type(model))"
   ]
  },
  {
   "cell_type": "code",
   "execution_count": 17,
   "id": "727a7989",
   "metadata": {},
   "outputs": [],
   "source": [
    "# Defining the reshaping functions\n",
    "\n",
    "# defining the new dataset\n",
    "\n",
    "import numpy as np\n",
    "\n",
    "def slice(x, section_length=10, overlap=5):\n",
    "\n",
    "    start_indices = np.arange(0, x.shape[1] - overlap, section_length - overlap)\n",
    "    sections = [x[:,start:start + section_length].transpose(1,2) for start in start_indices]\n",
    "\n",
    "    # If the last section is not of length 'section_length', you can decide whether to keep or discard it\n",
    "    if sections[-1].shape[1] < section_length:\n",
    "        sections.pop(-1)  # Discard the last section  \n",
    "\n",
    "    return torch.cat(sections, 1)\n",
    "\n",
    "\n",
    "def fnc(x):\n",
    "    std, mean = x.std(1, keepdim=True).clip_(0.2), x.mean(1, keepdim=True)\n",
    "    x = (x - mean) / std\n",
    "    x = slice(x, 20, 10)\n",
    "    x = F.pad(x, pad=(2, 0, 1, 0), mode='constant', value=0)\n",
    "    x[:,0,0] = (mean.squeeze()-2)/2\n",
    "    x[:,0,1] = (std.squeeze()-2)/8     \n",
    "\n",
    "    return x\n"
   ]
  },
  {
   "cell_type": "code",
   "execution_count": 18,
   "id": "3981e0c8",
   "metadata": {},
   "outputs": [
    {
     "name": "stdout",
     "output_type": "stream",
     "text": [
      "43,638,294\n"
     ]
    },
    {
     "name": "stderr",
     "output_type": "stream",
     "text": [
      "/tmp/ipykernel_743911/3745298908.py:33: DeprecationWarning: Calling np.sum(generator) is deprecated, and in the future will give a different result. Use np.sum(np.fromiter(generator)) or the python sum builtin instead.\n",
      "  num_params = sum(p.numel() for p in my_decoder.parameters())\n"
     ]
    }
   ],
   "source": [
    "# defining a decoder to turn the embeddings into 128 dims.\n",
    "class seq_decoder(nn.Module):\n",
    "\n",
    "    def __init__(self,  model, num_layers=6, embed_dim=128, nhead=4, model_embed_dim=768):\n",
    "        super().__init__()\n",
    "\n",
    "        self.num_layers = num_layers\n",
    "\n",
    "        self.queries = nn.ParameterList([nn.Parameter(torch.randn(1, 1, embed_dim)) for i in range(num_layers)])\n",
    "        self.attentions = nn.ModuleList([nn.MultiheadAttention(embed_dim=embed_dim, num_heads=nhead, batch_first=True, kdim=model_embed_dim, vdim=model_embed_dim, bias=True, add_bias_kv=True) for _ in range(num_layers)])\n",
    "        self.model = model\n",
    "        # go through the weights of the model and make them not require grad\n",
    "        for param in self.model.parameters():\n",
    "            param.requires_grad = False\n",
    "\n",
    "    def forward(self, sample):\n",
    "        sample=sample.unsqueeze(-1)\n",
    "        batch_size = len(sample)\n",
    "        with torch.no_grad():\n",
    "            embeddings = self.model(fnc(sample))['embeddings'][-self.num_layers:]\n",
    "\n",
    "        out = 0\n",
    "\n",
    "        for query,attention,embedding in zip(self.queries, self.attentions, embeddings):\n",
    "            \n",
    "            out += attention(query=query.repeat(batch_size,1,1), key=embedding, value=embedding, need_weights=False)[0]\n",
    "\n",
    "        return out.squeeze()\n",
    "\n",
    "\n",
    "my_decoder = seq_decoder(model=spec_model, num_layers=2)      \n",
    "\n",
    "num_params = sum(p.numel() for p in my_decoder.parameters())\n",
    "print(f\"{num_params:,}\")"
   ]
  },
  {
   "cell_type": "code",
   "execution_count": 19,
   "id": "ba22816a-737a-4e7f-911d-47d77a3c69fa",
   "metadata": {},
   "outputs": [],
   "source": [
    "# Let's define our architectures\n",
    "image_encoder = model # models.resnet34(num_classes=512, weights=None)\n",
    "# spectrum_encoder = SpectrumEncoder(None, 128)\n",
    "spectrum_encoder = seq_decoder(model=spec_model)     "
   ]
  },
  {
   "cell_type": "markdown",
   "id": "7a81fd6a-e3c7-4797-a3b6-b959efe34f01",
   "metadata": {},
   "source": [
    "## Actual training code"
   ]
  },
  {
   "cell_type": "code",
   "execution_count": 21,
   "id": "8fc52736-2f5b-41a4-9041-ccceb412c0a3",
   "metadata": {},
   "outputs": [],
   "source": [
    "class CLIPLoss(nn.Module):\n",
    "    def get_logits(self, image_features, spectrum_features, logit_scale):\n",
    "        image_features = F.normalize(image_features, dim=-1, eps=1e-3)\n",
    "        spectrum_features = F.normalize(spectrum_features, dim=-1, eps=1e-3)\n",
    "        logits_per_image = logit_scale * image_features @ spectrum_features.T\n",
    "        logits_per_spectrum = logit_scale * spectrum_features @ image_features.T\n",
    "        return logits_per_image, logits_per_spectrum\n",
    "\n",
    "    def forward(self, image_features, spectrum_features, logit_scale, output_dict=False):\n",
    "        logits_per_image, logits_per_spectrum = self.get_logits(image_features, spectrum_features, logit_scale)\n",
    "        labels = torch.arange(logits_per_image.shape[0], device=image_features.device, dtype=torch.long)\n",
    "        total_loss = (\n",
    "            F.cross_entropy(logits_per_image, labels) +\n",
    "            F.cross_entropy(logits_per_spectrum, labels)\n",
    "        ) / 2\n",
    "        return {\"contrastive_loss\": total_loss} if output_dict else total_loss"
   ]
  },
  {
   "cell_type": "code",
   "execution_count": 12,
   "id": "690efc1f-e0d4-434e-9f86-1ec07e67b5be",
   "metadata": {},
   "outputs": [],
   "source": [
    "class LitCLIP(L.LightningModule):\n",
    "    def __init__(self, image_encoder, spectrum_encoder):\n",
    "        super().__init__()\n",
    "        self.image_encoder = image_encoder\n",
    "        # self.image_encoder.freeze()\n",
    "        \n",
    "        # Freeze all but the last layers\n",
    "        for name, child in self.image_encoder.backbone.named_children():\n",
    "            if name != 'fc':\n",
    "                for param in child.parameters():\n",
    "                    param.requires_grad = False\n",
    "\n",
    "        self.spectrum_encoder = spectrum_encoder\n",
    "        # self.logit_scale = nn.Parameter(torch.ones([]) * np.log(1 / 0.07))\n",
    "        self.logit_scale = 1\n",
    "        self.criterion = CLIPLoss()\n",
    "        \n",
    "    def forward(self, x, image=True):\n",
    "        if image:\n",
    "            embedding = self.image_encoder((x,None))\n",
    "        else:\n",
    "            embedding = self.spectrum_encoder(x)\n",
    "        return embedding\n",
    "\n",
    "    def training_step(self, batch, batch_idx):\n",
    "        # training_step defines the train loop. It is independent of forward\n",
    "        im, sp = batch['image'].transpose(1,3), batch['spectrum'].squeeze()\n",
    "        im = image_transforms(im)#.to('cuda')\n",
    "        image_features = self.image_encoder((im, None))\n",
    "        spectrum_features = self.spectrum_encoder(sp)\n",
    "        \n",
    "        loss = self.criterion(image_features, spectrum_features, 1)\n",
    "        self.log(\"train_loss\", loss)\n",
    "        self.log(\"scale\", self.logit_scale)\n",
    "        return loss\n",
    "\n",
    "    def validation_step(self, batch, batch_idx):\n",
    "        im, sp = batch['image'].transpose(1,3), batch['spectrum'].squeeze()\n",
    "        im = image_transforms(im)#.to('cpu').numpy()).to('cuda')\n",
    "        image_features = self.image_encoder((im, None))\n",
    "        spectrum_features = self.spectrum_encoder(sp)\n",
    "        loss = self.criterion(image_features, spectrum_features, 1)\n",
    "        self.log(\"val_loss\", loss)\n",
    "    \n",
    "    def configure_optimizers(self):\n",
    "        optimizer = torch.optim.AdamW(self.parameters(), lr=2e-5, weight_decay=0.2)\n",
    "        return optimizer"
   ]
  },
  {
   "cell_type": "code",
   "execution_count": 18,
   "id": "641e3867-8da3-4d25-86ef-5a34423d401a",
   "metadata": {},
   "outputs": [],
   "source": [
    "CLIP = LitCLIP(image_encoder, spectrum_encoder)"
   ]
  },
  {
   "cell_type": "code",
   "execution_count": 21,
   "id": "4f472a39-1555-4f3e-b706-387a29ce0427",
   "metadata": {},
   "outputs": [
    {
     "name": "stderr",
     "output_type": "stream",
     "text": [
      "/mnt/home/sgolkar/anaconda3/envs/fillm/lib/python3.9/site-packages/pytorch_lightning/loggers/wandb.py:395: UserWarning: There is a wandb run already in progress and newly created instances of `WandbLogger` will reuse this run. If this is not desired, call `wandb.finish()` before instantiating `WandbLogger`.\n",
      "  rank_zero_warn(\n",
      "GPU available: True (cuda), used: True\n",
      "TPU available: False, using: 0 TPU cores\n",
      "IPU available: False, using: 0 IPUs\n",
      "HPU available: False, using: 0 HPUs\n"
     ]
    }
   ],
   "source": [
    "from lightning.pytorch.callbacks import ModelCheckpoint\n",
    "wandb_logger = WandbLogger(project=\"astroclip-clip-align\", entity=\"flatiron-scipt\")\n",
    "\n",
    "trainer = L.Trainer(\n",
    "        max_epochs=-1,\n",
    "        logger=wandb_logger,\n",
    "        callbacks=[\n",
    "            ModelCheckpoint(\n",
    "                every_n_epochs=1,\n",
    "                save_top_k=1,\n",
    "            )],\n",
    "            )"
   ]
  },
  {
   "cell_type": "code",
   "execution_count": null,
   "id": "0e63796c-efed-4017-a00e-69c7e229972d",
   "metadata": {},
   "outputs": [],
   "source": [
    "torch.set_float32_matmul_precision('medium')\n",
    "trainer.fit(model=CLIP, \n",
    "            train_dataloaders=train_dataloader,\n",
    "            val_dataloaders=val_dataloader)"
   ]
  },
  {
   "cell_type": "markdown",
   "id": "c56d7f82-81ff-4917-a163-ee9cf765dcdf",
   "metadata": {},
   "source": [
    "## Looking at the results"
   ]
  },
  {
   "cell_type": "code",
   "execution_count": 22,
   "id": "056999ae-1c28-4d35-bab6-b1bd4563e5c6",
   "metadata": {},
   "outputs": [],
   "source": [
    "# Loading the last saved checkpoint\n",
    "CLIP = LitCLIP.load_from_checkpoint('/mnt/home/sgolkar/projects/AstroCLIP/notebooks/dev/astroclip-clip-align/bumugyta/checkpoints/epoch=133-step=41540.ckpt',\n",
    "                                 image_encoder=image_encoder, \n",
    "                                 spectrum_encoder=spectrum_encoder)"
   ]
  },
  {
   "cell_type": "code",
   "execution_count": 24,
   "id": "fb1fbc13",
   "metadata": {},
   "outputs": [
    {
     "name": "stderr",
     "output_type": "stream",
     "text": [
      "100%|██████████| 78/78 [04:39<00:00,  3.58s/it]\n"
     ]
    },
    {
     "ename": "FileNotFoundError",
     "evalue": "[Errno 2] No such file or directory: '../data/siavash_embeddings_bumugyta.npz'",
     "output_type": "error",
     "traceback": [
      "\u001b[0;31m---------------------------------------------------------------------------\u001b[0m",
      "\u001b[0;31mFileNotFoundError\u001b[0m                         Traceback (most recent call last)",
      "\u001b[1;32m/mnt/home/sgolkar/projects/AstroCLIP/notebooks/dev/LightningTraining-FrozenVisual-SG-normed-nologit.ipynb Cell 22\u001b[0m line \u001b[0;36m6\n\u001b[1;32m     <a href='vscode-notebook-cell://ssh-remote%2Bws-cca/mnt/home/sgolkar/projects/AstroCLIP/notebooks/dev/LightningTraining-FrozenVisual-SG-normed-nologit.ipynb#X64sdnNjb2RlLXJlbW90ZQ%3D%3D?line=59'>60</a>\u001b[0m source_spec \u001b[39m=\u001b[39m np\u001b[39m.\u001b[39mconcatenate(source_spec, axis\u001b[39m=\u001b[39m\u001b[39m0\u001b[39m)\n\u001b[1;32m     <a href='vscode-notebook-cell://ssh-remote%2Bws-cca/mnt/home/sgolkar/projects/AstroCLIP/notebooks/dev/LightningTraining-FrozenVisual-SG-normed-nologit.ipynb#X64sdnNjb2RlLXJlbW90ZQ%3D%3D?line=60'>61</a>\u001b[0m targetids \u001b[39m=\u001b[39m np\u001b[39m.\u001b[39mconcatenate(tids, axis\u001b[39m=\u001b[39m\u001b[39m0\u001b[39m)\n\u001b[0;32m---> <a href='vscode-notebook-cell://ssh-remote%2Bws-cca/mnt/home/sgolkar/projects/AstroCLIP/notebooks/dev/LightningTraining-FrozenVisual-SG-normed-nologit.ipynb#X64sdnNjb2RlLXJlbW90ZQ%3D%3D?line=62'>63</a>\u001b[0m np\u001b[39m.\u001b[39;49msavez(\u001b[39m'\u001b[39;49m\u001b[39m../data/siavash_embeddings_bumugyta.npz\u001b[39;49m\u001b[39m'\u001b[39;49m, \n\u001b[1;32m     <a href='vscode-notebook-cell://ssh-remote%2Bws-cca/mnt/home/sgolkar/projects/AstroCLIP/notebooks/dev/LightningTraining-FrozenVisual-SG-normed-nologit.ipynb#X64sdnNjb2RlLXJlbW90ZQ%3D%3D?line=63'>64</a>\u001b[0m          redshift\u001b[39m=\u001b[39;49mredshifts,\n\u001b[1;32m     <a href='vscode-notebook-cell://ssh-remote%2Bws-cca/mnt/home/sgolkar/projects/AstroCLIP/notebooks/dev/LightningTraining-FrozenVisual-SG-normed-nologit.ipynb#X64sdnNjb2RlLXJlbW90ZQ%3D%3D?line=64'>65</a>\u001b[0m          image_features\u001b[39m=\u001b[39;49membeddings,\n\u001b[1;32m     <a href='vscode-notebook-cell://ssh-remote%2Bws-cca/mnt/home/sgolkar/projects/AstroCLIP/notebooks/dev/LightningTraining-FrozenVisual-SG-normed-nologit.ipynb#X64sdnNjb2RlLXJlbW90ZQ%3D%3D?line=65'>66</a>\u001b[0m          spectrum_features\u001b[39m=\u001b[39;49mspectra,\n\u001b[1;32m     <a href='vscode-notebook-cell://ssh-remote%2Bws-cca/mnt/home/sgolkar/projects/AstroCLIP/notebooks/dev/LightningTraining-FrozenVisual-SG-normed-nologit.ipynb#X64sdnNjb2RlLXJlbW90ZQ%3D%3D?line=66'>67</a>\u001b[0m          images\u001b[39m=\u001b[39;49mimages,\n\u001b[1;32m     <a href='vscode-notebook-cell://ssh-remote%2Bws-cca/mnt/home/sgolkar/projects/AstroCLIP/notebooks/dev/LightningTraining-FrozenVisual-SG-normed-nologit.ipynb#X64sdnNjb2RlLXJlbW90ZQ%3D%3D?line=67'>68</a>\u001b[0m          spectra\u001b[39m=\u001b[39;49msource_spec,\n\u001b[1;32m     <a href='vscode-notebook-cell://ssh-remote%2Bws-cca/mnt/home/sgolkar/projects/AstroCLIP/notebooks/dev/LightningTraining-FrozenVisual-SG-normed-nologit.ipynb#X64sdnNjb2RlLXJlbW90ZQ%3D%3D?line=68'>69</a>\u001b[0m          targetid\u001b[39m=\u001b[39;49mtargetids)\n",
      "File \u001b[0;32m~/anaconda3/envs/fillm/lib/python3.9/site-packages/numpy/lib/npyio.py:639\u001b[0m, in \u001b[0;36msavez\u001b[0;34m(file, *args, **kwds)\u001b[0m\n\u001b[1;32m    555\u001b[0m \u001b[39m@array_function_dispatch\u001b[39m(_savez_dispatcher)\n\u001b[1;32m    556\u001b[0m \u001b[39mdef\u001b[39;00m \u001b[39msavez\u001b[39m(file, \u001b[39m*\u001b[39margs, \u001b[39m*\u001b[39m\u001b[39m*\u001b[39mkwds):\n\u001b[1;32m    557\u001b[0m \u001b[39m    \u001b[39m\u001b[39m\"\"\"Save several arrays into a single file in uncompressed ``.npz`` format.\u001b[39;00m\n\u001b[1;32m    558\u001b[0m \n\u001b[1;32m    559\u001b[0m \u001b[39m    Provide arrays as keyword arguments to store them under the\u001b[39;00m\n\u001b[0;32m   (...)\u001b[0m\n\u001b[1;32m    637\u001b[0m \n\u001b[1;32m    638\u001b[0m \u001b[39m    \"\"\"\u001b[39;00m\n\u001b[0;32m--> 639\u001b[0m     _savez(file, args, kwds, \u001b[39mFalse\u001b[39;49;00m)\n",
      "File \u001b[0;32m~/anaconda3/envs/fillm/lib/python3.9/site-packages/numpy/lib/npyio.py:736\u001b[0m, in \u001b[0;36m_savez\u001b[0;34m(file, args, kwds, compress, allow_pickle, pickle_kwargs)\u001b[0m\n\u001b[1;32m    733\u001b[0m \u001b[39melse\u001b[39;00m:\n\u001b[1;32m    734\u001b[0m     compression \u001b[39m=\u001b[39m zipfile\u001b[39m.\u001b[39mZIP_STORED\n\u001b[0;32m--> 736\u001b[0m zipf \u001b[39m=\u001b[39m zipfile_factory(file, mode\u001b[39m=\u001b[39;49m\u001b[39m\"\u001b[39;49m\u001b[39mw\u001b[39;49m\u001b[39m\"\u001b[39;49m, compression\u001b[39m=\u001b[39;49mcompression)\n\u001b[1;32m    738\u001b[0m \u001b[39mfor\u001b[39;00m key, val \u001b[39min\u001b[39;00m namedict\u001b[39m.\u001b[39mitems():\n\u001b[1;32m    739\u001b[0m     fname \u001b[39m=\u001b[39m key \u001b[39m+\u001b[39m \u001b[39m'\u001b[39m\u001b[39m.npy\u001b[39m\u001b[39m'\u001b[39m\n",
      "File \u001b[0;32m~/anaconda3/envs/fillm/lib/python3.9/site-packages/numpy/lib/npyio.py:103\u001b[0m, in \u001b[0;36mzipfile_factory\u001b[0;34m(file, *args, **kwargs)\u001b[0m\n\u001b[1;32m    101\u001b[0m \u001b[39mimport\u001b[39;00m \u001b[39mzipfile\u001b[39;00m\n\u001b[1;32m    102\u001b[0m kwargs[\u001b[39m'\u001b[39m\u001b[39mallowZip64\u001b[39m\u001b[39m'\u001b[39m] \u001b[39m=\u001b[39m \u001b[39mTrue\u001b[39;00m\n\u001b[0;32m--> 103\u001b[0m \u001b[39mreturn\u001b[39;00m zipfile\u001b[39m.\u001b[39;49mZipFile(file, \u001b[39m*\u001b[39;49margs, \u001b[39m*\u001b[39;49m\u001b[39m*\u001b[39;49mkwargs)\n",
      "File \u001b[0;32m~/anaconda3/envs/fillm/lib/python3.9/zipfile.py:1248\u001b[0m, in \u001b[0;36mZipFile.__init__\u001b[0;34m(self, file, mode, compression, allowZip64, compresslevel, strict_timestamps)\u001b[0m\n\u001b[1;32m   1246\u001b[0m \u001b[39mwhile\u001b[39;00m \u001b[39mTrue\u001b[39;00m:\n\u001b[1;32m   1247\u001b[0m     \u001b[39mtry\u001b[39;00m:\n\u001b[0;32m-> 1248\u001b[0m         \u001b[39mself\u001b[39m\u001b[39m.\u001b[39mfp \u001b[39m=\u001b[39m io\u001b[39m.\u001b[39;49mopen(file, filemode)\n\u001b[1;32m   1249\u001b[0m     \u001b[39mexcept\u001b[39;00m \u001b[39mOSError\u001b[39;00m:\n\u001b[1;32m   1250\u001b[0m         \u001b[39mif\u001b[39;00m filemode \u001b[39min\u001b[39;00m modeDict:\n",
      "\u001b[0;31mFileNotFoundError\u001b[0m: [Errno 2] No such file or directory: '../data/siavash_embeddings_bumugyta.npz'"
     ]
    }
   ],
   "source": [
    "from tqdm import tqdm\n",
    "\n",
    "import numpy as np\n",
    "import h5py\n",
    "from PIL import Image as im\n",
    "\n",
    "def sdss_rgb(imgs, bands, scales=None,\n",
    "             m = 0.02):\n",
    "    import numpy as np\n",
    "    rgbscales = {'u': (2,1.5), #1.0,\n",
    "                 'g': (2,2.5),\n",
    "                 'r': (1,1.5),\n",
    "                 'i': (0,1.0),\n",
    "                 'z': (0,0.4), #0.3\n",
    "                 }\n",
    "    if scales is not None:\n",
    "        rgbscales.update(scales)\n",
    "\n",
    "    I = 0\n",
    "    for img,band in zip(imgs, bands):\n",
    "        plane,scale = rgbscales[band]\n",
    "        img = np.maximum(0, img * scale + m)\n",
    "        I = I + img\n",
    "    I /= len(bands)\n",
    "    Q = 20\n",
    "    fI = np.arcsinh(Q * I) / np.sqrt(Q)\n",
    "    I += (I == 0.) * 1e-6\n",
    "    H,W = I.shape\n",
    "    rgb = np.zeros((H,W,3), np.float32)\n",
    "    for img,band in zip(imgs, bands):\n",
    "        plane,scale = rgbscales[band]\n",
    "        rgb[:,:,plane] = (img * scale + m) * fI / I\n",
    "    rgb = np.clip(rgb, 0, 1)\n",
    "    return rgb\n",
    "\n",
    "def dr2_rgb(rimgs, bands, **ignored):\n",
    "    return sdss_rgb(rimgs, bands, scales=dict(g=(2,6.0), r=(1,3.4), z=(0,2.2)), m=0.03)\n",
    "\n",
    "dataset.set_format(type='torch', columns=['image', 'spectrum', 'redshift', 'targetid'])\n",
    "testdata = torch.utils.data.DataLoader(dataset['test'], batch_size=512, shuffle=False, num_workers=10)\n",
    "\n",
    "embeddings = []\n",
    "images = []\n",
    "redshifts = []\n",
    "spectra = []\n",
    "source_spec = []\n",
    "tids = []\n",
    "for batch_test in tqdm(testdata):\n",
    "    images.append(np.stack([clip(dr2_rgb(i.cpu().T, bands=['g', 'r', 'z']),0,1) for i in batch_test['image']] ,axis=0))\n",
    "    spectra.append(CLIP(batch_test['spectrum'].squeeze().to('cuda'), False).detach().cpu().numpy())\n",
    "    embeddings.append(CLIP(image_transforms(batch_test['image'].transpose(1,3).to('cuda'))).detach().cpu().numpy())\n",
    "    redshifts.append(batch_test['redshift'])\n",
    "    source_spec.append(batch_test['spectrum'])\n",
    "    tids.append(batch_test['targetid'])\n",
    "\n",
    "images = np.concatenate(images, axis=0)\n",
    "spectra = np.concatenate(spectra, axis=0)\n",
    "embeddings = np.concatenate(embeddings, axis=0)\n",
    "redshifts = np.concatenate(redshifts, axis=0)\n",
    "source_spec = np.concatenate(source_spec, axis=0)\n",
    "targetids = np.concatenate(tids, axis=0)\n",
    "\n",
    "np.savez('../data/siavash_embeddings_bumugyta.npz', \n",
    "         redshift=redshifts,\n",
    "         image_features=embeddings,\n",
    "         spectrum_features=spectra,\n",
    "         images=images,\n",
    "         spectra=source_spec,\n",
    "         targetid=targetids)"
   ]
  },
  {
   "cell_type": "code",
   "execution_count": 25,
   "id": "e4b439b1",
   "metadata": {},
   "outputs": [],
   "source": [
    "np.savez('../data/siavash_embeddings_bumugyta.npz', \n",
    "         redshift=redshifts,\n",
    "         image_features=embeddings,\n",
    "         spectrum_features=spectra,\n",
    "         images=images,\n",
    "         spectra=source_spec,\n",
    "         targetid=targetids)"
   ]
  },
  {
   "cell_type": "code",
   "execution_count": null,
   "id": "9456b804",
   "metadata": {},
   "outputs": [],
   "source": []
  }
 ],
 "metadata": {
  "kernelspec": {
   "display_name": "fillm",
   "language": "python",
   "name": "python3"
  },
  "language_info": {
   "codemirror_mode": {
    "name": "ipython",
    "version": 3
   },
   "file_extension": ".py",
   "mimetype": "text/x-python",
   "name": "python",
   "nbconvert_exporter": "python",
   "pygments_lexer": "ipython3",
   "version": "3.9.16"
  }
 },
 "nbformat": 4,
 "nbformat_minor": 5
}
