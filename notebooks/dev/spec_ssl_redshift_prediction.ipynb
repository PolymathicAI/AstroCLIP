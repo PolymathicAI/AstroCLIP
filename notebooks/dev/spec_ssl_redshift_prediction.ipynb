{
 "cells": [
  {
   "cell_type": "code",
   "execution_count": 1,
   "metadata": {},
   "outputs": [],
   "source": [
    "import matplotlib.pyplot as plt\n",
    "import numpy as np\n",
    "import seaborn as sns"
   ]
  },
  {
   "cell_type": "code",
   "execution_count": 2,
   "metadata": {},
   "outputs": [
    {
     "name": "stdout",
     "output_type": "stream",
     "text": [
      "%pylab is deprecated, use %matplotlib inline and import the required libraries.\n",
      "Populating the interactive namespace from numpy and matplotlib\n"
     ]
    }
   ],
   "source": [
    "%pylab inline"
   ]
  },
  {
   "cell_type": "code",
   "execution_count": 3,
   "metadata": {},
   "outputs": [],
   "source": [
    "from datasets import DatasetDict\n",
    "\n",
    "ds_path = \"/mnt/ceph/users/sgolkar/datasets/astroclip/spec_rs_chunked_ds\"\n",
    "ds = DatasetDict.load_from_disk(ds_path)"
   ]
  },
  {
   "cell_type": "code",
   "execution_count": 4,
   "metadata": {},
   "outputs": [
    {
     "name": "stdout",
     "output_type": "stream",
     "text": [
      "Seqformer(\n",
      "  (data_embed): Linear(in_features=13, out_features=768, bias=True)\n",
      "  (position_embed): Embedding(1556, 768)\n",
      "  (dropout): Dropout(p=0.0, inplace=False)\n",
      "  (blocks): ModuleList(\n",
      "    (0-5): 6 x TransformerBlock(\n",
      "      (layernorm1): LayerNorm()\n",
      "      (attention): SelfAttention(\n",
      "        (attention): Linear(in_features=768, out_features=2304, bias=True)\n",
      "        (projection): Linear(in_features=768, out_features=768, bias=True)\n",
      "        (attention_dropout): Dropout(p=0.0, inplace=False)\n",
      "        (residual_dropout): Dropout(p=0.0, inplace=False)\n",
      "      )\n",
      "      (layernorm2): LayerNorm()\n",
      "      (mlp): MLP(\n",
      "        (activation): GELU(approximate='none')\n",
      "        (encoder): Linear(in_features=768, out_features=3072, bias=True)\n",
      "        (decoder): Linear(in_features=3072, out_features=768, bias=True)\n",
      "      )\n",
      "    )\n",
      "  )\n",
      "  (final_layernorm): LayerNorm()\n",
      "  (head): Linear(in_features=768, out_features=13, bias=True)\n",
      ")\n"
     ]
    }
   ],
   "source": [
    "from fillm.run.model import *\n",
    "\n",
    "def load_model_from_ckpt(ckpt_path: str):\n",
    "    \"\"\"\n",
    "    Load a model from a checkpoint.\n",
    "    \"\"\"\n",
    "    if Path(ckpt_path).is_dir():\n",
    "        ckpt_path = Path(ckpt_path) / \"ckpt.pt\"\n",
    "\n",
    "    chkpt = torch.load(ckpt_path)\n",
    "    config = chkpt[\"config\"]\n",
    "    state_dict = chkpt[\"model\"]\n",
    "    model_name = config[\"model\"]['kind']\n",
    "    model_keys = get_model_keys(model_name)\n",
    "    # config['log_encoding']=False\n",
    "    # config['log_decoding']=False\n",
    "    # config['only_pred_masked']=True\n",
    "    # config['first_layer_norm']=True\n",
    "    # config['mlp_layer_norm']=True\n",
    "    \n",
    "    model_args = {k: config['model'][k] for k in model_keys}\n",
    "\n",
    "    model_ctr, config_cls = model_registry[model_name]\n",
    "    model_config = config_cls(**model_args)\n",
    "    model = model_ctr(model_config)\n",
    "    model.load_state_dict(state_dict)\n",
    "\n",
    "    return {\"model\": model, \"config\": config}\n",
    "\n",
    "model_path = \"/mnt/home/sgolkar/ceph/saves/fillm/run-seqformer-2700314\"\n",
    "out = load_model_from_ckpt(model_path)\n",
    "\n",
    "config = out['config']\n",
    "model = out['model'].to('cuda')\n",
    "# model.eval()\n",
    "\n",
    "print(model)"
   ]
  },
  {
   "cell_type": "code",
   "execution_count": 5,
   "metadata": {},
   "outputs": [],
   "source": [
    "import torch\n",
    "from torch import nn"
   ]
  },
  {
   "cell_type": "code",
   "execution_count": 6,
   "metadata": {},
   "outputs": [],
   "source": [
    "class RedshiftPredictor(nn.Module):\n",
    "    \"\"\" Tries to predict the redshift from the \n",
    "    pre-trained transformer model\n",
    "    \"\"\"\n",
    "    \n",
    "    def __init__(self, model):\n",
    "        super(RedshiftPredictor, self).__init__()\n",
    "        self.transformer = model\n",
    "        self.projection = nn.Linear(13, 1)\n",
    "        self.class_token = nn.Parameter(torch.ones([13]))\n",
    "    \n",
    "    def forward(self, x):\n",
    "        # Replacing the input by the empty prediction token\n",
    "        x[:,0] = self.class_token \n",
    "        \n",
    "        # Feeding all of that to our transformer model\n",
    "        x  = self.transformer(x)['preds']\n",
    "        \n",
    "        # Using the class token to form a prediction for redshift with a linear\n",
    "        # head\n",
    "        x = self.projection(x[:,0])\n",
    "        \n",
    "        return x"
   ]
  },
  {
   "cell_type": "code",
   "execution_count": 7,
   "metadata": {},
   "outputs": [],
   "source": [
    "predictor = RedshiftPredictor(model)\n",
    "predictor = predictor.to('cuda')"
   ]
  },
  {
   "cell_type": "code",
   "execution_count": 8,
   "metadata": {},
   "outputs": [],
   "source": [
    "ds.set_format(type='torch')\n",
    "dataloader = torch.utils.data.DataLoader(ds['train'], \n",
    "                                         batch_size=64, \n",
    "                                         num_workers=10,\n",
    "                                         shuffle=True, pin_memory=True)"
   ]
  },
  {
   "cell_type": "code",
   "execution_count": null,
   "metadata": {},
   "outputs": [
    {
     "name": "stderr",
     "output_type": "stream",
     "text": [
      "/mnt/home/flanusse/.local/lib/python3.10/site-packages/torch/nn/modules/loss.py:536: UserWarning: Using a target size (torch.Size([64])) that is different to the input size (torch.Size([64, 1])). This will likely lead to incorrect results due to broadcasting. Please ensure they have the same size.\n",
      "  return F.mse_loss(input, target, reduction=self.reduction)\n"
     ]
    },
    {
     "name": "stdout",
     "output_type": "stream",
     "text": [
      "[1,     1] loss: 0.706\n",
      "[1,    11] loss: 0.735\n",
      "[1,    21] loss: 0.643\n",
      "[1,    31] loss: 0.784\n",
      "[1,    41] loss: 1.302\n",
      "[1,    51] loss: 0.897\n",
      "[1,    61] loss: 0.700\n",
      "[1,    71] loss: 0.778\n",
      "[1,    81] loss: 0.597\n",
      "[1,    91] loss: 0.662\n",
      "[1,   101] loss: 0.700\n",
      "[1,   111] loss: 0.793\n",
      "[1,   121] loss: 1.553\n",
      "[1,   131] loss: 0.697\n",
      "[1,   141] loss: 0.748\n",
      "[1,   151] loss: 1.980\n",
      "[1,   161] loss: 2.111\n",
      "[1,   171] loss: 0.970\n",
      "[1,   181] loss: 2.489\n",
      "[1,   191] loss: 2.099\n",
      "[1,   201] loss: 0.636\n",
      "[1,   211] loss: 0.656\n",
      "[1,   221] loss: 0.583\n",
      "[1,   231] loss: 0.721\n"
     ]
    }
   ],
   "source": [
    "import torch.optim as optim\n",
    "from torch.optim.lr_scheduler import StepLR\n",
    "\n",
    "learning_rate = 1e-3\n",
    "epochs = 5\n",
    "\n",
    "criterion = nn.MSELoss().to('cuda')\n",
    "optimizer = optim.AdamW(model.parameters(), lr=0.0005)\n",
    "scheduler = StepLR(optimizer, step_size=1, gamma=0.1)\n",
    "\n",
    "losses = []\n",
    "predictor.train()\n",
    "\n",
    "for epoch in range(epochs):  # loop over the dataset multiple times\n",
    "    \n",
    "    running_loss = 0.0\n",
    "    for i, data in enumerate(dataloader, 0):\n",
    "        # get the inputs; data is a list of [inputs, labels]\n",
    "        inputs = data['x'].to('cuda')\n",
    "        labels = inputs[:,0,2].clone()\n",
    "        \n",
    "        # zero the parameter gradients\n",
    "        optimizer.zero_grad()\n",
    "\n",
    "        # forward + backward + optimize\n",
    "        outputs = predictor(inputs)\n",
    "        loss = criterion(outputs, labels)\n",
    "        \n",
    "        loss.backward()\n",
    "        optimizer.step()\n",
    "        losses.append(loss.item())\n",
    "        # print\n",
    "        if i % 10 == 0:\n",
    "            print(f'[{epoch + 1}, {i + 1:5d}] loss: {loss.item():.3f}')\n",
    "            \n",
    "    scheduler.step()"
   ]
  },
  {
   "cell_type": "code",
   "execution_count": null,
   "metadata": {},
   "outputs": [],
   "source": [
    "plot(losses[20:])"
   ]
  },
  {
   "cell_type": "code",
   "execution_count": null,
   "metadata": {},
   "outputs": [],
   "source": [
    "f = lambda z: z * 0.15 + 0.2"
   ]
  },
  {
   "cell_type": "code",
   "execution_count": null,
   "metadata": {},
   "outputs": [],
   "source": [
    "scatter(f(labels.cpu().detach().numpy()), \n",
    "        f(predictor(inputs).cpu().detach().numpy()))\n",
    "xlim(0,1)\n",
    "ylim(0,1)"
   ]
  },
  {
   "cell_type": "code",
   "execution_count": null,
   "metadata": {},
   "outputs": [],
   "source": []
  },
  {
   "cell_type": "code",
   "execution_count": null,
   "metadata": {},
   "outputs": [],
   "source": []
  }
 ],
 "metadata": {
  "kernelspec": {
   "display_name": "Python 3 (ipykernel) (python@3.10.8%gcc@11.3.0)",
   "language": "python",
   "name": "python-3.10.8-gcc-11.3.0-python3"
  },
  "language_info": {
   "codemirror_mode": {
    "name": "ipython",
    "version": 3
   },
   "file_extension": ".py",
   "mimetype": "text/x-python",
   "name": "python",
   "nbconvert_exporter": "python",
   "pygments_lexer": "ipython3",
   "version": "3.10.8"
  }
 },
 "nbformat": 4,
 "nbformat_minor": 4
}
